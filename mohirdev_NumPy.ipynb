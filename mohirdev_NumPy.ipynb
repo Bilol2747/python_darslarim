{
  "cells": [
    {
      "cell_type": "markdown",
      "metadata": {
        "id": "view-in-github",
        "colab_type": "text"
      },
      "source": [
        "<a href=\"https://colab.research.google.com/github/Bilol2747/python_darslarim/blob/main/mohirdev_NumPy.ipynb\" target=\"_parent\"><img src=\"https://colab.research.google.com/assets/colab-badge.svg\" alt=\"Open In Colab\"/></a>"
      ]
    },
    {
      "cell_type": "markdown",
      "id": "bf79c78b",
      "metadata": {
        "id": "bf79c78b"
      },
      "source": [
        "# NumPy kutubxonasiga doir bilimlaringizni mustaxkamlash uchun mashqlar\n",
        "\n",
        "Hurmatli o'quvchi, bilimingizni yanada mustaxkamlashingiz va chuqurroq ko'nikmalarga ega bo'lishingiz uchun sizga topshiriqlar tayyorladik. Sizga yengillik yaratish maqsadida topshiriqni aynan qanday funksiyalar yordamida amalga oshirishingiz mumkin ekanini\n",
        " `💡Ishora` ko'rinishida yozdik!"
      ]
    },
    {
      "cell_type": "markdown",
      "id": "017db353",
      "metadata": {
        "id": "017db353"
      },
      "source": [
        "#### 1. NumPy kutubxonasini `np` nomi ostida yuklang va numpy kutubxonasini chop eting.\n",
        "\n",
        "versiya va konfiguratsiyani tekshiring.\n"
      ]
    },
    {
      "cell_type": "markdown",
      "source": [
        "`💡Ishora` import … as` and `np.__version__, np.show_config"
      ],
      "metadata": {
        "id": "e28779fe"
      },
      "id": "e28779fe"
    },
    {
      "cell_type": "code",
      "source": [
        "import numpy as np"
      ],
      "metadata": {
        "id": "_pCbn1ieI3u9"
      },
      "id": "_pCbn1ieI3u9",
      "execution_count": 1,
      "outputs": []
    },
    {
      "cell_type": "markdown",
      "id": "46950f4f",
      "metadata": {
        "id": "46950f4f"
      },
      "source": [
        "#### 2. Raqamli qiymatlar ro'yxatini bir o'lchovli NumPy massiviga aylantiring!"
      ]
    },
    {
      "cell_type": "markdown",
      "source": [
        "`💡Ishora` numpy.array"
      ],
      "metadata": {
        "id": "9b0e875f"
      },
      "id": "9b0e875f"
    },
    {
      "cell_type": "code",
      "source": [
        "arr=np.array([1, 2, 3, 4, 5, 6])\n",
        "arr"
      ],
      "metadata": {
        "id": "dgnzjeT3JCi4",
        "outputId": "390cdc31-5b1d-4fa7-ad67-025c119aea4e",
        "colab": {
          "base_uri": "https://localhost:8080/"
        }
      },
      "id": "dgnzjeT3JCi4",
      "execution_count": 2,
      "outputs": [
        {
          "output_type": "execute_result",
          "data": {
            "text/plain": [
              "array([1, 2, 3, 4, 5, 6])"
            ]
          },
          "metadata": {},
          "execution_count": 2
        }
      ]
    },
    {
      "cell_type": "markdown",
      "id": "e3c20b3d",
      "metadata": {
        "id": "e3c20b3d"
      },
      "source": [
        "#### 3. Qiymatlari noldan iborat bo'lgan to'qqiz o'lchovli massiv yarating.\n",
        "\n"
      ]
    },
    {
      "cell_type": "markdown",
      "source": [
        "`💡Ishora` np.zeros\n",
        "\n",
        "1.   List item\n",
        "2.   List item\n",
        "\n"
      ],
      "metadata": {
        "id": "96d0b63e"
      },
      "id": "96d0b63e"
    },
    {
      "cell_type": "code",
      "source": [
        "np.zeros(arr)"
      ],
      "metadata": {
        "id": "g-AU1uBGOHTA",
        "outputId": "466614ce-31b2-494e-e16c-f3f4025fd81c",
        "colab": {
          "base_uri": "https://localhost:8080/"
        }
      },
      "id": "g-AU1uBGOHTA",
      "execution_count": 6,
      "outputs": [
        {
          "output_type": "execute_result",
          "data": {
            "text/plain": [
              "array([[[[[[0., 0., 0., 0., 0., 0.],\n",
              "           [0., 0., 0., 0., 0., 0.],\n",
              "           [0., 0., 0., 0., 0., 0.],\n",
              "           [0., 0., 0., 0., 0., 0.],\n",
              "           [0., 0., 0., 0., 0., 0.]],\n",
              "\n",
              "          [[0., 0., 0., 0., 0., 0.],\n",
              "           [0., 0., 0., 0., 0., 0.],\n",
              "           [0., 0., 0., 0., 0., 0.],\n",
              "           [0., 0., 0., 0., 0., 0.],\n",
              "           [0., 0., 0., 0., 0., 0.]],\n",
              "\n",
              "          [[0., 0., 0., 0., 0., 0.],\n",
              "           [0., 0., 0., 0., 0., 0.],\n",
              "           [0., 0., 0., 0., 0., 0.],\n",
              "           [0., 0., 0., 0., 0., 0.],\n",
              "           [0., 0., 0., 0., 0., 0.]],\n",
              "\n",
              "          [[0., 0., 0., 0., 0., 0.],\n",
              "           [0., 0., 0., 0., 0., 0.],\n",
              "           [0., 0., 0., 0., 0., 0.],\n",
              "           [0., 0., 0., 0., 0., 0.],\n",
              "           [0., 0., 0., 0., 0., 0.]]],\n",
              "\n",
              "\n",
              "         [[[0., 0., 0., 0., 0., 0.],\n",
              "           [0., 0., 0., 0., 0., 0.],\n",
              "           [0., 0., 0., 0., 0., 0.],\n",
              "           [0., 0., 0., 0., 0., 0.],\n",
              "           [0., 0., 0., 0., 0., 0.]],\n",
              "\n",
              "          [[0., 0., 0., 0., 0., 0.],\n",
              "           [0., 0., 0., 0., 0., 0.],\n",
              "           [0., 0., 0., 0., 0., 0.],\n",
              "           [0., 0., 0., 0., 0., 0.],\n",
              "           [0., 0., 0., 0., 0., 0.]],\n",
              "\n",
              "          [[0., 0., 0., 0., 0., 0.],\n",
              "           [0., 0., 0., 0., 0., 0.],\n",
              "           [0., 0., 0., 0., 0., 0.],\n",
              "           [0., 0., 0., 0., 0., 0.],\n",
              "           [0., 0., 0., 0., 0., 0.]],\n",
              "\n",
              "          [[0., 0., 0., 0., 0., 0.],\n",
              "           [0., 0., 0., 0., 0., 0.],\n",
              "           [0., 0., 0., 0., 0., 0.],\n",
              "           [0., 0., 0., 0., 0., 0.],\n",
              "           [0., 0., 0., 0., 0., 0.]]],\n",
              "\n",
              "\n",
              "         [[[0., 0., 0., 0., 0., 0.],\n",
              "           [0., 0., 0., 0., 0., 0.],\n",
              "           [0., 0., 0., 0., 0., 0.],\n",
              "           [0., 0., 0., 0., 0., 0.],\n",
              "           [0., 0., 0., 0., 0., 0.]],\n",
              "\n",
              "          [[0., 0., 0., 0., 0., 0.],\n",
              "           [0., 0., 0., 0., 0., 0.],\n",
              "           [0., 0., 0., 0., 0., 0.],\n",
              "           [0., 0., 0., 0., 0., 0.],\n",
              "           [0., 0., 0., 0., 0., 0.]],\n",
              "\n",
              "          [[0., 0., 0., 0., 0., 0.],\n",
              "           [0., 0., 0., 0., 0., 0.],\n",
              "           [0., 0., 0., 0., 0., 0.],\n",
              "           [0., 0., 0., 0., 0., 0.],\n",
              "           [0., 0., 0., 0., 0., 0.]],\n",
              "\n",
              "          [[0., 0., 0., 0., 0., 0.],\n",
              "           [0., 0., 0., 0., 0., 0.],\n",
              "           [0., 0., 0., 0., 0., 0.],\n",
              "           [0., 0., 0., 0., 0., 0.],\n",
              "           [0., 0., 0., 0., 0., 0.]]]],\n",
              "\n",
              "\n",
              "\n",
              "        [[[[0., 0., 0., 0., 0., 0.],\n",
              "           [0., 0., 0., 0., 0., 0.],\n",
              "           [0., 0., 0., 0., 0., 0.],\n",
              "           [0., 0., 0., 0., 0., 0.],\n",
              "           [0., 0., 0., 0., 0., 0.]],\n",
              "\n",
              "          [[0., 0., 0., 0., 0., 0.],\n",
              "           [0., 0., 0., 0., 0., 0.],\n",
              "           [0., 0., 0., 0., 0., 0.],\n",
              "           [0., 0., 0., 0., 0., 0.],\n",
              "           [0., 0., 0., 0., 0., 0.]],\n",
              "\n",
              "          [[0., 0., 0., 0., 0., 0.],\n",
              "           [0., 0., 0., 0., 0., 0.],\n",
              "           [0., 0., 0., 0., 0., 0.],\n",
              "           [0., 0., 0., 0., 0., 0.],\n",
              "           [0., 0., 0., 0., 0., 0.]],\n",
              "\n",
              "          [[0., 0., 0., 0., 0., 0.],\n",
              "           [0., 0., 0., 0., 0., 0.],\n",
              "           [0., 0., 0., 0., 0., 0.],\n",
              "           [0., 0., 0., 0., 0., 0.],\n",
              "           [0., 0., 0., 0., 0., 0.]]],\n",
              "\n",
              "\n",
              "         [[[0., 0., 0., 0., 0., 0.],\n",
              "           [0., 0., 0., 0., 0., 0.],\n",
              "           [0., 0., 0., 0., 0., 0.],\n",
              "           [0., 0., 0., 0., 0., 0.],\n",
              "           [0., 0., 0., 0., 0., 0.]],\n",
              "\n",
              "          [[0., 0., 0., 0., 0., 0.],\n",
              "           [0., 0., 0., 0., 0., 0.],\n",
              "           [0., 0., 0., 0., 0., 0.],\n",
              "           [0., 0., 0., 0., 0., 0.],\n",
              "           [0., 0., 0., 0., 0., 0.]],\n",
              "\n",
              "          [[0., 0., 0., 0., 0., 0.],\n",
              "           [0., 0., 0., 0., 0., 0.],\n",
              "           [0., 0., 0., 0., 0., 0.],\n",
              "           [0., 0., 0., 0., 0., 0.],\n",
              "           [0., 0., 0., 0., 0., 0.]],\n",
              "\n",
              "          [[0., 0., 0., 0., 0., 0.],\n",
              "           [0., 0., 0., 0., 0., 0.],\n",
              "           [0., 0., 0., 0., 0., 0.],\n",
              "           [0., 0., 0., 0., 0., 0.],\n",
              "           [0., 0., 0., 0., 0., 0.]]],\n",
              "\n",
              "\n",
              "         [[[0., 0., 0., 0., 0., 0.],\n",
              "           [0., 0., 0., 0., 0., 0.],\n",
              "           [0., 0., 0., 0., 0., 0.],\n",
              "           [0., 0., 0., 0., 0., 0.],\n",
              "           [0., 0., 0., 0., 0., 0.]],\n",
              "\n",
              "          [[0., 0., 0., 0., 0., 0.],\n",
              "           [0., 0., 0., 0., 0., 0.],\n",
              "           [0., 0., 0., 0., 0., 0.],\n",
              "           [0., 0., 0., 0., 0., 0.],\n",
              "           [0., 0., 0., 0., 0., 0.]],\n",
              "\n",
              "          [[0., 0., 0., 0., 0., 0.],\n",
              "           [0., 0., 0., 0., 0., 0.],\n",
              "           [0., 0., 0., 0., 0., 0.],\n",
              "           [0., 0., 0., 0., 0., 0.],\n",
              "           [0., 0., 0., 0., 0., 0.]],\n",
              "\n",
              "          [[0., 0., 0., 0., 0., 0.],\n",
              "           [0., 0., 0., 0., 0., 0.],\n",
              "           [0., 0., 0., 0., 0., 0.],\n",
              "           [0., 0., 0., 0., 0., 0.],\n",
              "           [0., 0., 0., 0., 0., 0.]]]]]])"
            ]
          },
          "metadata": {},
          "execution_count": 6
        }
      ]
    },
    {
      "cell_type": "markdown",
      "id": "b15a879f",
      "metadata": {
        "id": "b15a879f"
      },
      "source": [
        "#### 4. Massiv yarating va uning xotira hajmini toping.\n",
        "\n"
      ]
    },
    {
      "cell_type": "markdown",
      "source": [
        "`💡Ishora` size, itemsize"
      ],
      "metadata": {
        "id": "32f9025c"
      },
      "id": "32f9025c"
    },
    {
      "cell_type": "code",
      "source": [
        "np.size(arr)"
      ],
      "metadata": {
        "id": "MZxcJM_oJOTs",
        "outputId": "f3c2aa60-89ae-4076-ea74-5c972b9223b4",
        "colab": {
          "base_uri": "https://localhost:8080/"
        }
      },
      "id": "MZxcJM_oJOTs",
      "execution_count": 7,
      "outputs": [
        {
          "output_type": "execute_result",
          "data": {
            "text/plain": [
              "6"
            ]
          },
          "metadata": {},
          "execution_count": 7
        }
      ]
    },
    {
      "cell_type": "markdown",
      "id": "0a708990",
      "metadata": {
        "id": "0a708990"
      },
      "source": [
        "#### 5. NumPy kutubxonasidagi add funksiyasi hujjatlarini buyruq satridan qanday olishi mumkin?\n"
      ]
    },
    {
      "cell_type": "markdown",
      "source": [
        "`💡Ishora` np.info"
      ],
      "metadata": {
        "id": "d254eea5"
      },
      "id": "d254eea5"
    },
    {
      "cell_type": "code",
      "source": [
        "np.info(arr)"
      ],
      "metadata": {
        "id": "m7nA_vYsJVUi",
        "outputId": "f30e0777-5fea-4431-e091-a09c19cfbdaf",
        "colab": {
          "base_uri": "https://localhost:8080/"
        }
      },
      "id": "m7nA_vYsJVUi",
      "execution_count": 8,
      "outputs": [
        {
          "output_type": "stream",
          "name": "stdout",
          "text": [
            "class:  ndarray\n",
            "shape:  (6,)\n",
            "strides:  (8,)\n",
            "itemsize:  8\n",
            "aligned:  True\n",
            "contiguous:  True\n",
            "fortran:  True\n",
            "data pointer: 0x36dc2b0\n",
            "byteorder:  little\n",
            "byteswap:  False\n",
            "type: int64\n"
          ]
        }
      ]
    },
    {
      "cell_type": "markdown",
      "id": "0b16cd77",
      "metadata": {
        "id": "0b16cd77"
      },
      "source": [
        "#### 6. Shunday vekor yaratingki u o'n ikki o'lchamda va qiymatlari noldan iborat bo'lsin, lekin vektorning oltinchi qiymati 1 ga teng bo'lsin.\n",
        "\n"
      ]
    },
    {
      "cell_type": "markdown",
      "source": [
        "`💡Ishora` array[12]"
      ],
      "metadata": {
        "id": "05223560"
      },
      "id": "05223560"
    },
    {
      "cell_type": "code",
      "source": [
        "data=np.array(12)\n",
        "vek=np.zeros(data)\n",
        "vek\n"
      ],
      "metadata": {
        "id": "UJfYDNQoJc7M",
        "outputId": "0963dd46-8e93-4ce7-fde8-dd95f0be926e",
        "colab": {
          "base_uri": "https://localhost:8080/"
        }
      },
      "id": "UJfYDNQoJc7M",
      "execution_count": 23,
      "outputs": [
        {
          "output_type": "execute_result",
          "data": {
            "text/plain": [
              "array([0., 0., 0., 0., 0., 0., 0., 0., 0., 0., 0., 0.])"
            ]
          },
          "metadata": {},
          "execution_count": 23
        }
      ]
    },
    {
      "cell_type": "code",
      "source": [
        "vek[5]=1\n",
        "vek"
      ],
      "metadata": {
        "id": "h3sn1Y4YQNlY",
        "outputId": "fd70ea94-6600-4e78-de71-7764c08fb479",
        "colab": {
          "base_uri": "https://localhost:8080/"
        }
      },
      "id": "h3sn1Y4YQNlY",
      "execution_count": 26,
      "outputs": [
        {
          "output_type": "execute_result",
          "data": {
            "text/plain": [
              "array([0., 0., 0., 0., 0., 1., 0., 0., 0., 0., 0., 0.])"
            ]
          },
          "metadata": {},
          "execution_count": 26
        }
      ]
    },
    {
      "cell_type": "markdown",
      "id": "782d4c77",
      "metadata": {
        "id": "782d4c77"
      },
      "source": [
        "#### 7. Qiymatlari 20 dan 59 gacha bo'lgan vektor yarating.\n",
        "\n"
      ]
    },
    {
      "cell_type": "markdown",
      "source": [
        "`💡Ishora` arange"
      ],
      "metadata": {
        "id": "7250d114"
      },
      "id": "7250d114"
    },
    {
      "cell_type": "code",
      "source": [
        "vek1=np.arange(20,60)\n",
        "vek1"
      ],
      "metadata": {
        "id": "fSaWkGakJhwz",
        "outputId": "cf81a7b2-9df8-4578-b24b-893af20d74ae",
        "colab": {
          "base_uri": "https://localhost:8080/"
        }
      },
      "id": "fSaWkGakJhwz",
      "execution_count": 28,
      "outputs": [
        {
          "output_type": "execute_result",
          "data": {
            "text/plain": [
              "array([20, 21, 22, 23, 24, 25, 26, 27, 28, 29, 30, 31, 32, 33, 34, 35, 36,\n",
              "       37, 38, 39, 40, 41, 42, 43, 44, 45, 46, 47, 48, 49, 50, 51, 52, 53,\n",
              "       54, 55, 56, 57, 58, 59])"
            ]
          },
          "metadata": {},
          "execution_count": 28
        }
      ]
    },
    {
      "cell_type": "markdown",
      "id": "48d48f01",
      "metadata": {
        "id": "48d48f01"
      },
      "source": [
        "#### 8. Vektor yarating va uni teskari o'zgartiring\n",
        "(birinchi element oxirgisi bo'lsin)\n",
        "\n"
      ]
    },
    {
      "cell_type": "markdown",
      "source": [
        "`💡Ishora` array[::-1]"
      ],
      "metadata": {
        "id": "fb702ae0"
      },
      "id": "fb702ae0"
    },
    {
      "cell_type": "code",
      "source": [
        "vek1[-1]"
      ],
      "metadata": {
        "id": "GCP6vp_WJrON",
        "outputId": "1241809b-b0cd-4645-ee55-041aca3f8bc5",
        "colab": {
          "base_uri": "https://localhost:8080/"
        }
      },
      "id": "GCP6vp_WJrON",
      "execution_count": 30,
      "outputs": [
        {
          "output_type": "execute_result",
          "data": {
            "text/plain": [
              "59"
            ]
          },
          "metadata": {},
          "execution_count": 30
        }
      ]
    },
    {
      "cell_type": "code",
      "source": [
        "te_vek=-np.sort(-vek1)\n",
        "te_vek"
      ],
      "metadata": {
        "id": "6FvxYJTuRJZ1",
        "outputId": "0bf34fe3-717a-48a9-94c9-81b48a45187f",
        "colab": {
          "base_uri": "https://localhost:8080/"
        }
      },
      "id": "6FvxYJTuRJZ1",
      "execution_count": 38,
      "outputs": [
        {
          "output_type": "execute_result",
          "data": {
            "text/plain": [
              "array([59, 58, 57, 56, 55, 54, 53, 52, 51, 50, 49, 48, 47, 46, 45, 44, 43,\n",
              "       42, 41, 40, 39, 38, 37, 36, 35, 34, 33, 32, 31, 30, 29, 28, 27, 26,\n",
              "       25, 24, 23, 22, 21, 20])"
            ]
          },
          "metadata": {},
          "execution_count": 38
        }
      ]
    },
    {
      "cell_type": "markdown",
      "id": "4fa39382",
      "metadata": {
        "id": "4fa39382"
      },
      "source": [
        "#### 9. 12 dan 20 gacha bo'lgan qiymatlarga ega 3x3 matritsa yarating.\n"
      ]
    },
    {
      "cell_type": "code",
      "source": [
        "arr2=np.arange(12, 21) .reshape(3,3)\n",
        "arr2"
      ],
      "metadata": {
        "id": "2uDilbrhRIOK",
        "outputId": "d0714d9c-ac44-405d-aadc-7273515ae377",
        "colab": {
          "base_uri": "https://localhost:8080/"
        }
      },
      "id": "2uDilbrhRIOK",
      "execution_count": 46,
      "outputs": [
        {
          "output_type": "execute_result",
          "data": {
            "text/plain": [
              "array([[12, 13, 14],\n",
              "       [15, 16, 17],\n",
              "       [18, 19, 20]])"
            ]
          },
          "metadata": {},
          "execution_count": 46
        }
      ]
    },
    {
      "cell_type": "markdown",
      "source": [
        "`💡Ishora` reshape"
      ],
      "metadata": {
        "id": "97e6be92"
      },
      "id": "97e6be92"
    },
    {
      "cell_type": "markdown",
      "id": "da64551a",
      "metadata": {
        "id": "da64551a"
      },
      "source": [
        "#### 10. Quyidagi matritsadan foydalanib nolga teng bo'lmagan elementlarning indekslarini toping.\n",
        "[3, 7, 0, 0, 9, 0]\n",
        "\n",
        "\n",
        "\n"
      ]
    },
    {
      "cell_type": "markdown",
      "source": [
        "`💡Ishora` np.nonzero"
      ],
      "metadata": {
        "id": "322b2b68"
      },
      "id": "322b2b68"
    },
    {
      "cell_type": "code",
      "source": [
        "data2=np.array([3, 7, 0, 0, 9, 0])\n",
        "np.nonzero(data2)"
      ],
      "metadata": {
        "id": "fNIuSyBaJ4OP",
        "outputId": "37ded78b-e557-4e20-96ff-185436565c8d",
        "colab": {
          "base_uri": "https://localhost:8080/"
        }
      },
      "id": "fNIuSyBaJ4OP",
      "execution_count": 51,
      "outputs": [
        {
          "output_type": "execute_result",
          "data": {
            "text/plain": [
              "(array([0, 1, 4]),)"
            ]
          },
          "metadata": {},
          "execution_count": 51
        }
      ]
    },
    {
      "cell_type": "markdown",
      "id": "f89d9c9e",
      "metadata": {
        "id": "f89d9c9e"
      },
      "source": [
        "#### 11. Tasodifiy qiymatlar bilan 2x2x2 o'lchovidagi massiv yarating.\n"
      ]
    },
    {
      "cell_type": "markdown",
      "source": [
        "`💡Ishora` np.random.random"
      ],
      "metadata": {
        "id": "5717e1c1"
      },
      "id": "5717e1c1"
    },
    {
      "cell_type": "code",
      "source": [
        "data3=np.random.randn(2, 2, 2)\n",
        "data3"
      ],
      "metadata": {
        "id": "3BirhAVXUsXO",
        "outputId": "963377cc-47e1-445c-a044-05fa8324a8b9",
        "colab": {
          "base_uri": "https://localhost:8080/"
        }
      },
      "id": "3BirhAVXUsXO",
      "execution_count": 59,
      "outputs": [
        {
          "output_type": "execute_result",
          "data": {
            "text/plain": [
              "array([[[ 1.12682894,  0.21479298],\n",
              "        [ 1.56327201,  0.64705498]],\n",
              "\n",
              "       [[-0.01701604,  1.11791795],\n",
              "        [ 0.12939211, -0.34939793]]])"
            ]
          },
          "metadata": {},
          "execution_count": 59
        }
      ]
    },
    {
      "cell_type": "markdown",
      "id": "13c5928c",
      "metadata": {
        "id": "13c5928c"
      },
      "source": [
        "#### 12. Tasodifiy sonlardan tashkil topgan 9X9 o'lchamidagi massiv yarating. So'ng uning eng katta va eng kichik qiymatlarini toping\n"
      ]
    },
    {
      "cell_type": "markdown",
      "source": [
        "`💡Ishora` min, max"
      ],
      "metadata": {
        "id": "0ede4d26"
      },
      "id": "0ede4d26"
    },
    {
      "cell_type": "code",
      "source": [
        "data4=np.random.randn(9, 9)\n",
        "data4"
      ],
      "metadata": {
        "id": "OJiVa5K9LJyb",
        "outputId": "23e18380-3dc8-4eeb-90dd-efcceb91dd1f",
        "colab": {
          "base_uri": "https://localhost:8080/"
        }
      },
      "id": "OJiVa5K9LJyb",
      "execution_count": 61,
      "outputs": [
        {
          "output_type": "execute_result",
          "data": {
            "text/plain": [
              "array([[-1.86261206, -0.16009949,  0.32707283,  1.21168785,  0.05475635,\n",
              "        -0.85667396,  0.01012651,  0.34163931,  1.16447904],\n",
              "       [ 0.72156592, -1.02990065,  1.41228101,  1.21374918,  0.84097902,\n",
              "        -2.18819374, -0.79932362,  0.32629775, -0.26542092],\n",
              "       [-0.35421385,  0.08894974, -1.2418012 ,  1.46319391, -1.49032452,\n",
              "         1.44099975,  1.64843196, -0.25995955, -1.27661112],\n",
              "       [ 0.73168424, -1.09566303, -1.26619005, -0.64826225,  1.90280646,\n",
              "         0.52781875,  0.25106894, -0.13924255,  1.08255687],\n",
              "       [-3.19852582, -0.30895541, -1.06302877, -0.54608255, -1.82259625,\n",
              "         1.23582006,  0.50544533,  0.28282065, -0.29544945],\n",
              "       [-1.36940071,  1.05036178, -0.57067204,  0.72696625,  1.22586745,\n",
              "        -3.01783325,  0.76273836,  0.49084087, -3.57570069],\n",
              "       [-0.51777221, -1.30733444,  0.60413666, -0.36514092,  0.86685866,\n",
              "        -0.8991493 ,  0.11595186,  0.67840187,  0.60452921],\n",
              "       [ 0.88901128, -0.96191063,  0.52213579,  0.22864452, -0.58718105,\n",
              "         0.53030846,  0.01000459, -2.67533139, -1.53203825],\n",
              "       [ 1.18891988,  1.92312638, -2.92347747, -0.22730282,  0.49602171,\n",
              "        -1.35837442, -0.12262063, -1.43360107, -0.40619963]])"
            ]
          },
          "metadata": {},
          "execution_count": 61
        }
      ]
    },
    {
      "cell_type": "code",
      "source": [
        "np.min(data4)"
      ],
      "metadata": {
        "id": "GDndrO1EVWg2",
        "outputId": "1e7d3fd6-5f9f-43d5-f721-a075d005869a",
        "colab": {
          "base_uri": "https://localhost:8080/"
        }
      },
      "id": "GDndrO1EVWg2",
      "execution_count": 62,
      "outputs": [
        {
          "output_type": "execute_result",
          "data": {
            "text/plain": [
              "-3.575700685180391"
            ]
          },
          "metadata": {},
          "execution_count": 62
        }
      ]
    },
    {
      "cell_type": "code",
      "source": [
        "np.max(data4)"
      ],
      "metadata": {
        "id": "kCFladWeVfXt",
        "outputId": "6f5be3ea-ca9f-40df-86f7-67f5af2f2aba",
        "colab": {
          "base_uri": "https://localhost:8080/"
        }
      },
      "id": "kCFladWeVfXt",
      "execution_count": 63,
      "outputs": [
        {
          "output_type": "execute_result",
          "data": {
            "text/plain": [
              "1.923126377218435"
            ]
          },
          "metadata": {},
          "execution_count": 63
        }
      ]
    },
    {
      "cell_type": "markdown",
      "id": "3fa2e461",
      "metadata": {
        "id": "3fa2e461"
      },
      "source": [
        "#### 13. Quyidagi misol qanday natija beradi?\n",
        "\n",
        "\n",
        "```python\n",
        "0 * np.nan\n",
        "np.nan == np.nan\n",
        "np.inf > np.nan\n",
        "np.nan - np.nan\n",
        "np.nan in set([np.nan])\n",
        "0.7 == 7 * 0.1\n",
        "```\n"
      ]
    },
    {
      "cell_type": "markdown",
      "source": [
        "`💡Ishora` NaN = not a number, inf = infinity"
      ],
      "metadata": {
        "id": "c0048e59"
      },
      "id": "c0048e59"
    },
    {
      "cell_type": "code",
      "source": [
        "0 * np.nan\n",
        "np.nan == np.nan\n",
        "np.inf > np.nan\n",
        "np.nan - np.nan\n",
        "np.nan in set([np.nan])\n",
        "0.7 == 7 * 0.1\n"
      ],
      "metadata": {
        "id": "Thbqd_RCLf_e",
        "outputId": "b365a999-d93c-438e-d9c5-cc7b3ccb881b",
        "colab": {
          "base_uri": "https://localhost:8080/"
        }
      },
      "id": "Thbqd_RCLf_e",
      "execution_count": 64,
      "outputs": [
        {
          "output_type": "execute_result",
          "data": {
            "text/plain": [
              "False"
            ]
          },
          "metadata": {},
          "execution_count": 64
        }
      ]
    },
    {
      "cell_type": "markdown",
      "id": "73f7a549",
      "metadata": {
        "id": "73f7a549"
      },
      "source": [
        "#### 14. O'lchamlari 6x3 va 3x4 bo'lgan martitsa yarating, so'ng ularning  ko'paytmasini hisoblang.\n",
        "\n"
      ]
    },
    {
      "cell_type": "markdown",
      "source": [
        "`💡Ishora` np.dot` or `np.ones"
      ],
      "metadata": {
        "id": "351ff928"
      },
      "id": "351ff928"
    },
    {
      "cell_type": "code",
      "source": [
        "\n",
        "mat=np.random.randn(6, 3)\n",
        "mat"
      ],
      "metadata": {
        "id": "e_5QUFcPLtVX",
        "outputId": "6004bfd3-72d5-44fe-9045-5d92a3f18854",
        "colab": {
          "base_uri": "https://localhost:8080/"
        }
      },
      "id": "e_5QUFcPLtVX",
      "execution_count": 123,
      "outputs": [
        {
          "output_type": "execute_result",
          "data": {
            "text/plain": [
              "array([[-0.27185214,  0.25877089, -0.42045285],\n",
              "       [ 0.59177002, -0.12674602, -0.32337818],\n",
              "       [-1.90422432, -0.36907943,  2.1067828 ],\n",
              "       [ 0.45918754, -0.26123872,  0.57091636],\n",
              "       [-0.50384359,  0.94824632,  0.0243237 ],\n",
              "       [-0.25339803,  0.13068886, -1.11103494]])"
            ]
          },
          "metadata": {},
          "execution_count": 123
        }
      ]
    },
    {
      "cell_type": "code",
      "source": [
        "mat1=np.random.randn(3, 4)\n",
        "mat1\n",
        ""
      ],
      "metadata": {
        "id": "EPsUHBoQYWQK",
        "outputId": "c3228916-bf56-4b3c-b059-01f7253d4dae",
        "colab": {
          "base_uri": "https://localhost:8080/"
        }
      },
      "id": "EPsUHBoQYWQK",
      "execution_count": 124,
      "outputs": [
        {
          "output_type": "execute_result",
          "data": {
            "text/plain": [
              "array([[-0.66543953,  0.90517342,  0.23566264, -0.51142886],\n",
              "       [ 0.18035173,  0.06585773, -0.61496772, -1.78321165],\n",
              "       [ 2.05360772, -1.31956505,  0.85184273,  0.60619185]])"
            ]
          },
          "metadata": {},
          "execution_count": 124
        }
      ]
    },
    {
      "cell_type": "code",
      "source": [
        "mat.dot(mat1)"
      ],
      "metadata": {
        "id": "yi0GPWPyYx1a",
        "outputId": "deb1a25b-0909-4e7a-848e-789c95d3de99",
        "colab": {
          "base_uri": "https://localhost:8080/"
        }
      },
      "id": "yi0GPWPyYx1a",
      "execution_count": 125,
      "outputs": [
        {
          "output_type": "execute_result",
          "data": {
            "text/plain": [
              "array([[-0.63587427,  0.32578362, -0.58136084, -0.57728533],\n",
              "       [-1.08073794,  0.95402582, -0.05806455, -0.2726625 ],\n",
              "       [ 5.52708744, -4.52799693,  1.57286503,  2.90913659],\n",
              "       [ 0.81976185, -0.35492151,  0.75519768,  0.57708701],\n",
              "       [ 0.55624664, -0.42571318, -0.68115802, -1.4184989 ],\n",
              "       [-2.08943889,  1.24532059, -1.08651292, -0.77695116]])"
            ]
          },
          "metadata": {},
          "execution_count": 125
        }
      ]
    },
    {
      "cell_type": "markdown",
      "id": "6d0c506f",
      "metadata": {
        "id": "6d0c506f"
      },
      "source": [
        "#### 15. Quyidagi misol qanday natija beradi?\n",
        "\n",
        "```python\n",
        "print(sum(range(5),-1))\n",
        "from numpy import *\n",
        "print(sum(range(5),-1))\n",
        "```"
      ]
    },
    {
      "cell_type": "code",
      "execution_count": 106,
      "id": "c1cc1143",
      "metadata": {
        "id": "c1cc1143",
        "outputId": "f4a3b29f-19d7-4e21-e490-2b3cbcc9dc7f",
        "colab": {
          "base_uri": "https://localhost:8080/"
        }
      },
      "outputs": [
        {
          "output_type": "stream",
          "name": "stdout",
          "text": [
            "9\n",
            "10\n"
          ]
        }
      ],
      "source": [
        "print(sum(range(5),-1))\n",
        "from numpy import *\n",
        "print(sum(range(5),-1))"
      ]
    },
    {
      "cell_type": "markdown",
      "id": "d6ad1a9f",
      "metadata": {
        "id": "d6ad1a9f"
      },
      "source": [
        "#### 16. NumPy kutubxonasi yordamida ikkita massivni solishtiring va ular usida quyidagi amallarni bajaring.\n",
        "\n",
        "```python\n",
        "Array a: [1 2]\n",
        "Array b: [4 5]\n",
        "a > b\n",
        "[False False]\n",
        "a >= b\n",
        "[False False]\n",
        "a < b\n",
        "[ True True]\n",
        "a <= b\n",
        "[ True True]\n",
        "```"
      ]
    },
    {
      "cell_type": "code",
      "source": [
        "a=np.array([1, 2])\n",
        "b=np.array([4, 5])"
      ],
      "metadata": {
        "id": "QJxsfE7TcmB9"
      },
      "id": "QJxsfE7TcmB9",
      "execution_count": 110,
      "outputs": []
    },
    {
      "cell_type": "code",
      "source": [
        "a > b\n",
        "cond= np.array([False, False])\n",
        "result=np.where(cond, a, b)\n",
        "result"
      ],
      "metadata": {
        "id": "2X4xVvSScw9Q",
        "outputId": "740caea4-ff20-482a-cf48-9571e845d085",
        "colab": {
          "base_uri": "https://localhost:8080/"
        }
      },
      "id": "2X4xVvSScw9Q",
      "execution_count": 113,
      "outputs": [
        {
          "output_type": "execute_result",
          "data": {
            "text/plain": [
              "array([4, 5])"
            ]
          },
          "metadata": {},
          "execution_count": 113
        }
      ]
    },
    {
      "cell_type": "code",
      "source": [
        "a >= b\n",
        "cond1= np.array([False, False])\n",
        "result1=np.where(cond1, a, b)\n",
        "result1"
      ],
      "metadata": {
        "id": "df5h12F7exkg",
        "outputId": "f2a4c668-4cbd-4781-fac4-e7f77eaf1173",
        "colab": {
          "base_uri": "https://localhost:8080/"
        }
      },
      "id": "df5h12F7exkg",
      "execution_count": 122,
      "outputs": [
        {
          "output_type": "execute_result",
          "data": {
            "text/plain": [
              "array([4, 5])"
            ]
          },
          "metadata": {},
          "execution_count": 122
        }
      ]
    },
    {
      "cell_type": "code",
      "source": [
        "a < b\n",
        "cond2=np.array([True, True])\n",
        "result2=np.where(cond2, a, b)\n",
        "result2"
      ],
      "metadata": {
        "id": "_iuMvDHRfEuv",
        "outputId": "15313de8-86fc-4d90-832a-8b552b4ca659",
        "colab": {
          "base_uri": "https://localhost:8080/"
        }
      },
      "id": "_iuMvDHRfEuv",
      "execution_count": 121,
      "outputs": [
        {
          "output_type": "execute_result",
          "data": {
            "text/plain": [
              "array([1, 2])"
            ]
          },
          "metadata": {},
          "execution_count": 121
        }
      ]
    },
    {
      "cell_type": "code",
      "source": [
        "a <= b\n",
        "cond3=np.array([True, True])\n",
        "result3=np.where(cond3, a, b)\n",
        "result3"
      ],
      "metadata": {
        "id": "F-f4puxwfvqX",
        "outputId": "d1fae28a-602e-47f4-b6f9-fba283782d98",
        "colab": {
          "base_uri": "https://localhost:8080/"
        }
      },
      "id": "F-f4puxwfvqX",
      "execution_count": 119,
      "outputs": [
        {
          "output_type": "execute_result",
          "data": {
            "text/plain": [
              "array([1, 2])"
            ]
          },
          "metadata": {},
          "execution_count": 119
        }
      ]
    },
    {
      "cell_type": "markdown",
      "id": "e3a7ba7f",
      "metadata": {
        "id": "e3a7ba7f"
      },
      "source": [
        "#### 17. Quyidagi misol qanday natija beradi?\n",
        "\n",
        "```python\n",
        "np.array(0) / np.array(0)\n",
        "np.array(0) // np.array(0)\n",
        "np.array([np.nan]).astype(int).astype(float)\n",
        "```"
      ]
    },
    {
      "cell_type": "code",
      "execution_count": 126,
      "id": "b874734e",
      "metadata": {
        "id": "b874734e",
        "outputId": "e551427e-fb36-4190-96e6-998f00248fdb",
        "colab": {
          "base_uri": "https://localhost:8080/"
        }
      },
      "outputs": [
        {
          "output_type": "stream",
          "name": "stderr",
          "text": [
            "<ipython-input-126-cd809174da5d>:1: RuntimeWarning: invalid value encountered in divide\n",
            "  np.array(0) / np.array(0)\n",
            "<ipython-input-126-cd809174da5d>:2: RuntimeWarning: divide by zero encountered in floor_divide\n",
            "  np.array(0) // np.array(0)\n",
            "<ipython-input-126-cd809174da5d>:3: RuntimeWarning: invalid value encountered in cast\n",
            "  np.array([np.nan]).astype(int).astype(float)\n"
          ]
        },
        {
          "output_type": "execute_result",
          "data": {
            "text/plain": [
              "array([-9.22337204e+18])"
            ]
          },
          "metadata": {},
          "execution_count": 126
        }
      ],
      "source": [
        "np.array(0) / np.array(0)\n",
        "np.array(0) // np.array(0)\n",
        "np.array([np.nan]).astype(int).astype(float)"
      ]
    },
    {
      "cell_type": "markdown",
      "id": "6d17ab5d",
      "metadata": {
        "id": "6d17ab5d"
      },
      "source": [
        "#### 18. Ikkita massiv yarating va ular orasidagi umumiy qiymatlarni toping\n"
      ]
    },
    {
      "cell_type": "markdown",
      "source": [
        "`💡Ishora` np.intersect1d"
      ],
      "metadata": {
        "id": "4c4e2c5e"
      },
      "id": "4c4e2c5e"
    },
    {
      "cell_type": "code",
      "source": [
        "arr6=np.arange(3,8)\n",
        "arr6\n",
        ""
      ],
      "metadata": {
        "id": "Dxz5P8WpMeAP",
        "outputId": "32a2c1e3-2bab-42e5-aa5a-4b68a0107b4d",
        "colab": {
          "base_uri": "https://localhost:8080/"
        }
      },
      "id": "Dxz5P8WpMeAP",
      "execution_count": 134,
      "outputs": [
        {
          "output_type": "execute_result",
          "data": {
            "text/plain": [
              "array([3, 4, 5, 6, 7])"
            ]
          },
          "metadata": {},
          "execution_count": 134
        }
      ]
    },
    {
      "cell_type": "code",
      "source": [
        "arr7=np.arange(6, 12)\n",
        "arr7"
      ],
      "metadata": {
        "id": "DPGq5La9hnhx",
        "outputId": "505268a9-ce21-40c7-e939-77834974f518",
        "colab": {
          "base_uri": "https://localhost:8080/"
        }
      },
      "id": "DPGq5La9hnhx",
      "execution_count": 135,
      "outputs": [
        {
          "output_type": "execute_result",
          "data": {
            "text/plain": [
              "array([ 6,  7,  8,  9, 10, 11])"
            ]
          },
          "metadata": {},
          "execution_count": 135
        }
      ]
    },
    {
      "cell_type": "code",
      "source": [
        "np.intersect1d(arr6, arr7)"
      ],
      "metadata": {
        "id": "Fu8dI5UwhqZn",
        "outputId": "be15859b-9a6a-46c7-e89e-937a7f5d9de4",
        "colab": {
          "base_uri": "https://localhost:8080/"
        }
      },
      "id": "Fu8dI5UwhqZn",
      "execution_count": 136,
      "outputs": [
        {
          "output_type": "execute_result",
          "data": {
            "text/plain": [
              "array([6, 7])"
            ]
          },
          "metadata": {},
          "execution_count": 136
        }
      ]
    },
    {
      "cell_type": "markdown",
      "id": "8837119b",
      "metadata": {
        "id": "8837119b"
      },
      "source": [
        "#### 19. Tasodifiy sonlardan iborat bo'lgan massiv yarating, so'ng ularni quyida berilgan 4 xil usul yordamida musbat sonlarning butun qismini ajratib oling."
      ]
    },
    {
      "cell_type": "markdown",
      "source": [
        "`💡Ishora` %, np.floor, astype, np.trunc"
      ],
      "metadata": {
        "id": "2b05c544"
      },
      "id": "2b05c544"
    },
    {
      "cell_type": "code",
      "source": [
        "arr8=np.random.randn(3,3)\n",
        "arr8"
      ],
      "metadata": {
        "id": "jc6wN5WWMpS3",
        "outputId": "1d8e9dba-4938-4918-b7f8-990fbf377f05",
        "colab": {
          "base_uri": "https://localhost:8080/"
        }
      },
      "id": "jc6wN5WWMpS3",
      "execution_count": 158,
      "outputs": [
        {
          "output_type": "execute_result",
          "data": {
            "text/plain": [
              "array([[ 0.95555149, -0.59092501,  0.02463124],\n",
              "       [-1.42943433,  1.04960976, -0.2699793 ],\n",
              "       [-1.17703028, -0.11088872,  1.30434798]])"
            ]
          },
          "metadata": {},
          "execution_count": 158
        }
      ]
    },
    {
      "cell_type": "code",
      "source": [
        "np.floor(arr8)"
      ],
      "metadata": {
        "id": "njv3UKf9iaN_",
        "outputId": "25304358-1c9f-48bf-c787-b7628154b2d7",
        "colab": {
          "base_uri": "https://localhost:8080/"
        }
      },
      "id": "njv3UKf9iaN_",
      "execution_count": 159,
      "outputs": [
        {
          "output_type": "execute_result",
          "data": {
            "text/plain": [
              "array([[ 0., -1.,  0.],\n",
              "       [-2.,  1., -1.],\n",
              "       [-2., -1.,  1.]])"
            ]
          },
          "metadata": {},
          "execution_count": 159
        }
      ]
    },
    {
      "cell_type": "code",
      "source": [
        "arr8.astype"
      ],
      "metadata": {
        "id": "upFnpSUHiadP",
        "outputId": "eafffc8d-3513-4caf-8f9f-7ac1e6ed4d86",
        "colab": {
          "base_uri": "https://localhost:8080/"
        }
      },
      "id": "upFnpSUHiadP",
      "execution_count": 160,
      "outputs": [
        {
          "output_type": "execute_result",
          "data": {
            "text/plain": [
              "<function ndarray.astype>"
            ]
          },
          "metadata": {},
          "execution_count": 160
        }
      ]
    },
    {
      "cell_type": "code",
      "source": [
        "np.trunc(arr8)"
      ],
      "metadata": {
        "id": "x_qtJCTNiaqR",
        "outputId": "0bfb83b7-dba8-4963-d876-a0a6c2e53426",
        "colab": {
          "base_uri": "https://localhost:8080/"
        }
      },
      "id": "x_qtJCTNiaqR",
      "execution_count": 161,
      "outputs": [
        {
          "output_type": "execute_result",
          "data": {
            "text/plain": [
              "array([[ 0., -0.,  0.],\n",
              "       [-1.,  1., -0.],\n",
              "       [-1., -0.,  1.]])"
            ]
          },
          "metadata": {},
          "execution_count": 161
        }
      ]
    },
    {
      "cell_type": "markdown",
      "id": "ec788c9f",
      "metadata": {
        "id": "ec788c9f"
      },
      "source": [
        "#### 20. O'lchovlari 3x3 matritsa yarating, ularning qator qiymatlari 0 dan 2 gacha bo'lsin.\n",
        "\n"
      ]
    },
    {
      "cell_type": "markdown",
      "source": [
        "\n",
        "\n",
        "```\n",
        "# This is formatted as code\n",
        "```\n",
        "\n",
        "`💡Ishora` np.arange"
      ],
      "metadata": {
        "id": "c3980b2c"
      },
      "id": "c3980b2c"
    },
    {
      "cell_type": "code",
      "source": [
        "data4=np.random.randn(3, 3)\n",
        "data4"
      ],
      "metadata": {
        "id": "Gohqf0ahkWs5",
        "outputId": "bca88f9a-c911-494c-a60e-b6e1498faeb5",
        "colab": {
          "base_uri": "https://localhost:8080/"
        }
      },
      "id": "Gohqf0ahkWs5",
      "execution_count": 170,
      "outputs": [
        {
          "output_type": "execute_result",
          "data": {
            "text/plain": [
              "array([[ 1.04500846, -1.69668877,  0.38574313],\n",
              "       [ 1.04772616, -0.81099461, -1.76586383],\n",
              "       [ 1.05914689, -0.47212357,  0.12513297]])"
            ]
          },
          "metadata": {},
          "execution_count": 170
        }
      ]
    },
    {
      "cell_type": "markdown",
      "id": "391791e0",
      "metadata": {
        "id": "391791e0"
      },
      "source": [
        "#### 21. O'chamlari 10 bo'lgan tasodifiy vektor yarating va uni o'sish tartibida chiqaruvchi dastur tuzing.\n",
        "\n"
      ]
    },
    {
      "cell_type": "markdown",
      "source": [
        "`💡Ishora` sort"
      ],
      "metadata": {
        "id": "ada71c06"
      },
      "id": "ada71c06"
    },
    {
      "cell_type": "code",
      "source": [
        "vek2=np.array([10, 2, 5, 7, 1, 6, 5, ])\n",
        "vek2"
      ],
      "metadata": {
        "id": "TPMqaavROM7g",
        "outputId": "44564164-5ddc-4299-8e49-986e082256d8",
        "colab": {
          "base_uri": "https://localhost:8080/"
        }
      },
      "id": "TPMqaavROM7g",
      "execution_count": 175,
      "outputs": [
        {
          "output_type": "execute_result",
          "data": {
            "text/plain": [
              "array([10,  2,  5,  7,  1,  6,  5])"
            ]
          },
          "metadata": {},
          "execution_count": 175
        }
      ]
    },
    {
      "cell_type": "code",
      "source": [
        "np.sort(vek2)"
      ],
      "metadata": {
        "id": "HMtbg9bDlo6S",
        "outputId": "6f6d946d-121c-49d1-f657-89d5e58f34e2",
        "colab": {
          "base_uri": "https://localhost:8080/"
        }
      },
      "id": "HMtbg9bDlo6S",
      "execution_count": 176,
      "outputs": [
        {
          "output_type": "execute_result",
          "data": {
            "text/plain": [
              "array([ 1,  2,  5,  5,  6,  7, 10])"
            ]
          },
          "metadata": {},
          "execution_count": 176
        }
      ]
    },
    {
      "cell_type": "markdown",
      "id": "1e74d39e",
      "metadata": {
        "id": "1e74d39e"
      },
      "source": [
        "#### 22. Ikki tasodifiy A va B massiv yarating, ularning tengligini tekshiring"
      ]
    },
    {
      "cell_type": "markdown",
      "source": [
        "`💡Ishora` np.allclose, np.array_equal"
      ],
      "metadata": {
        "id": "eb0e066c"
      },
      "id": "eb0e066c"
    },
    {
      "cell_type": "code",
      "source": [
        "xarr=random.randn(2, 2)\n",
        "xarr"
      ],
      "metadata": {
        "id": "xHNWNZnwOT1r",
        "outputId": "980d889a-8292-48ef-e155-b98bb4872621",
        "colab": {
          "base_uri": "https://localhost:8080/"
        }
      },
      "id": "xHNWNZnwOT1r",
      "execution_count": 180,
      "outputs": [
        {
          "output_type": "execute_result",
          "data": {
            "text/plain": [
              "array([[ 1.05199062,  0.67291917],\n",
              "       [ 0.52909477, -1.53074013]])"
            ]
          },
          "metadata": {},
          "execution_count": 180
        }
      ]
    },
    {
      "cell_type": "code",
      "source": [
        "yarr=random.randn(2, 2)\n",
        "yarr"
      ],
      "metadata": {
        "id": "m2ZWrEGjmV-0",
        "outputId": "63583e1d-c5d0-4a7a-d619-399317597157",
        "colab": {
          "base_uri": "https://localhost:8080/"
        }
      },
      "id": "m2ZWrEGjmV-0",
      "execution_count": 182,
      "outputs": [
        {
          "output_type": "execute_result",
          "data": {
            "text/plain": [
              "array([[-0.20579295, -0.16760948],\n",
              "       [-0.88107797,  0.53879115]])"
            ]
          },
          "metadata": {},
          "execution_count": 182
        }
      ]
    },
    {
      "cell_type": "code",
      "source": [
        "np.allclose(xarr, yarr)"
      ],
      "metadata": {
        "id": "8sGXu7lCmec0",
        "outputId": "ad607c1d-8554-4b80-8bd3-5e691c1165b8",
        "colab": {
          "base_uri": "https://localhost:8080/"
        }
      },
      "id": "8sGXu7lCmec0",
      "execution_count": 183,
      "outputs": [
        {
          "output_type": "execute_result",
          "data": {
            "text/plain": [
              "False"
            ]
          },
          "metadata": {},
          "execution_count": 183
        }
      ]
    },
    {
      "cell_type": "markdown",
      "id": "78250c14",
      "metadata": {
        "id": "78250c14"
      },
      "source": [
        "#### 23. O'lchamlari 6x3 va 3x4 matritsa tuzing va ularni o'zaro ko'paytiring.\n"
      ]
    },
    {
      "cell_type": "markdown",
      "source": [
        "`💡Ishora` np.dot or np.ones"
      ],
      "metadata": {
        "id": "2e482afe"
      },
      "id": "2e482afe"
    },
    {
      "cell_type": "code",
      "source": [
        "print(mat)"
      ],
      "metadata": {
        "id": "ZRlMgdT9POgS",
        "outputId": "a8d9623f-c0cf-4bb4-bd0a-9cf65f5fbe6a",
        "colab": {
          "base_uri": "https://localhost:8080/"
        }
      },
      "id": "ZRlMgdT9POgS",
      "execution_count": 184,
      "outputs": [
        {
          "output_type": "stream",
          "name": "stdout",
          "text": [
            "[[-0.27185214  0.25877089 -0.42045285]\n",
            " [ 0.59177002 -0.12674602 -0.32337818]\n",
            " [-1.90422432 -0.36907943  2.1067828 ]\n",
            " [ 0.45918754 -0.26123872  0.57091636]\n",
            " [-0.50384359  0.94824632  0.0243237 ]\n",
            " [-0.25339803  0.13068886 -1.11103494]]\n"
          ]
        }
      ]
    },
    {
      "cell_type": "code",
      "source": [
        "print(mat1)"
      ],
      "metadata": {
        "id": "jJW6umN6nEq2",
        "outputId": "3625ca86-0def-4e2e-d89c-7eed4ea5198b",
        "colab": {
          "base_uri": "https://localhost:8080/"
        }
      },
      "id": "jJW6umN6nEq2",
      "execution_count": 185,
      "outputs": [
        {
          "output_type": "stream",
          "name": "stdout",
          "text": [
            "[[-0.66543953  0.90517342  0.23566264 -0.51142886]\n",
            " [ 0.18035173  0.06585773 -0.61496772 -1.78321165]\n",
            " [ 2.05360772 -1.31956505  0.85184273  0.60619185]]\n"
          ]
        }
      ]
    },
    {
      "cell_type": "code",
      "source": [
        "np.dot(mat, mat1)"
      ],
      "metadata": {
        "id": "GapM6RBInK6B",
        "outputId": "e0877d11-ab83-4f29-9cb5-5cbb8e83b111",
        "colab": {
          "base_uri": "https://localhost:8080/"
        }
      },
      "id": "GapM6RBInK6B",
      "execution_count": 186,
      "outputs": [
        {
          "output_type": "execute_result",
          "data": {
            "text/plain": [
              "array([[-0.63587427,  0.32578362, -0.58136084, -0.57728533],\n",
              "       [-1.08073794,  0.95402582, -0.05806455, -0.2726625 ],\n",
              "       [ 5.52708744, -4.52799693,  1.57286503,  2.90913659],\n",
              "       [ 0.81976185, -0.35492151,  0.75519768,  0.57708701],\n",
              "       [ 0.55624664, -0.42571318, -0.68115802, -1.4184989 ],\n",
              "       [-2.08943889,  1.24532059, -1.08651292, -0.77695116]])"
            ]
          },
          "metadata": {},
          "execution_count": 186
        }
      ]
    },
    {
      "cell_type": "markdown",
      "id": "51898680",
      "metadata": {
        "id": "51898680"
      },
      "source": [
        "#### 24. Tasodifiy sonlardan iborat bo'lgan o'lchami 5 ga teng vektor yarating, so'ng uning eng katta qiymatini 0 ga o'zgartiring.\n"
      ]
    },
    {
      "cell_type": "markdown",
      "source": [
        "`💡Ishora` argmax"
      ],
      "metadata": {
        "id": "ee92ccaf"
      },
      "id": "ee92ccaf"
    },
    {
      "cell_type": "code",
      "source": [
        "data9=random.randn(1,5)\n",
        "data9"
      ],
      "metadata": {
        "id": "v9DvyaTNPk_t",
        "outputId": "a9e72d9f-852d-4454-e5b2-28644e40059f",
        "colab": {
          "base_uri": "https://localhost:8080/"
        }
      },
      "id": "v9DvyaTNPk_t",
      "execution_count": 187,
      "outputs": [
        {
          "output_type": "execute_result",
          "data": {
            "text/plain": [
              "array([[0.26964643, 0.68401965, 0.30798992, 0.01304997, 0.14022912]])"
            ]
          },
          "metadata": {},
          "execution_count": 187
        }
      ]
    },
    {
      "cell_type": "code",
      "source": [
        "max=argmax(data9)\n",
        "max\n"
      ],
      "metadata": {
        "id": "uEzILq4Lnk8Q",
        "outputId": "a35faea1-b6bf-4149-ce7c-d53929300ed6",
        "colab": {
          "base_uri": "https://localhost:8080/"
        }
      },
      "id": "uEzILq4Lnk8Q",
      "execution_count": 203,
      "outputs": [
        {
          "output_type": "execute_result",
          "data": {
            "text/plain": [
              "1"
            ]
          },
          "metadata": {},
          "execution_count": 203
        }
      ]
    },
    {
      "cell_type": "markdown",
      "id": "129c342d",
      "metadata": {
        "id": "129c342d"
      },
      "source": [
        "#### 25. NumPy kutubxonasi yordamida kecha, bugun va ertangi kun sanalarini aniqlang.\n"
      ]
    },
    {
      "cell_type": "markdown",
      "source": [
        "`💡Ishora` np.datetime64, np.timedelta64"
      ],
      "metadata": {
        "id": "0fd2f947"
      },
      "id": "0fd2f947"
    },
    {
      "cell_type": "code",
      "source": [
        "np.datetime64(()"
      ],
      "metadata": {
        "id": "dlljRGxkSitd",
        "outputId": "b1098d7b-76be-457e-fd40-4b0331529e78",
        "colab": {
          "base_uri": "https://localhost:8080/",
          "height": 141
        }
      },
      "id": "dlljRGxkSitd",
      "execution_count": 205,
      "outputs": [
        {
          "output_type": "error",
          "ename": "NameError",
          "evalue": "name 'now' is not defined",
          "traceback": [
            "\u001b[0;31m---------------------------------------------------------------------------\u001b[0m",
            "\u001b[0;31mNameError\u001b[0m                                 Traceback (most recent call last)",
            "\u001b[0;32m<ipython-input-205-019101e2dae5>\u001b[0m in \u001b[0;36m<cell line: 0>\u001b[0;34m()\u001b[0m\n\u001b[0;32m----> 1\u001b[0;31m \u001b[0mnp\u001b[0m\u001b[0;34m.\u001b[0m\u001b[0mdatetime64\u001b[0m\u001b[0;34m(\u001b[0m\u001b[0mnow\u001b[0m\u001b[0;34m)\u001b[0m\u001b[0;34m\u001b[0m\u001b[0;34m\u001b[0m\u001b[0m\n\u001b[0m",
            "\u001b[0;31mNameError\u001b[0m: name 'now' is not defined"
          ]
        }
      ]
    },
    {
      "cell_type": "markdown",
      "id": "42f8b2f9",
      "metadata": {
        "id": "42f8b2f9"
      },
      "source": [
        "#### 26. 2016 yil yanvar oyiga to'g'ri keladigan barcha sanalarni NumPy kutubxonasi yordamida aniqlang.\n"
      ]
    },
    {
      "cell_type": "markdown",
      "source": [
        "`💡Ishora` np.arange(dtype=datetime64['D'])"
      ],
      "metadata": {
        "id": "SU1BWcA8Sw2M"
      },
      "id": "SU1BWcA8Sw2M"
    },
    {
      "cell_type": "code",
      "execution_count": null,
      "id": "5ad086b0",
      "metadata": {
        "id": "5ad086b0"
      },
      "outputs": [],
      "source": []
    },
    {
      "cell_type": "markdown",
      "id": "486df8ea",
      "metadata": {
        "id": "486df8ea"
      },
      "source": [
        "#### 27. 4 xil usul yordamida musbat sonlarning tasodifiy massivining butun son qismini ajratib oling.\n"
      ]
    },
    {
      "cell_type": "markdown",
      "source": [
        "`💡Ishora` %, np.floor, astype, np.trunc`"
      ],
      "metadata": {
        "id": "h4QM3bp9TDhb"
      },
      "id": "h4QM3bp9TDhb"
    },
    {
      "cell_type": "markdown",
      "source": [
        "#19- savol bilan bir xil"
      ],
      "metadata": {
        "id": "83-4L9avqfwH"
      },
      "id": "83-4L9avqfwH"
    },
    {
      "cell_type": "markdown",
      "id": "6415f02e",
      "metadata": {
        "id": "6415f02e"
      },
      "source": [
        "#### 28. Ixtiyoriy kichik massivlar yarating, ular yeg'indisini np.sum funksiyasidanda tezroq hisoblovchi dastur tuzing.\n"
      ]
    },
    {
      "cell_type": "markdown",
      "source": [
        "`💡Ishora` np.add.reduce"
      ],
      "metadata": {
        "id": "129e785f"
      },
      "id": "129e785f"
    },
    {
      "cell_type": "code",
      "source": [
        "arr10=np.array([1, 2, 5, 4])"
      ],
      "metadata": {
        "id": "zbp_GsV6qrEM"
      },
      "id": "zbp_GsV6qrEM",
      "execution_count": 206,
      "outputs": []
    },
    {
      "cell_type": "code",
      "source": [
        "np.sum(arr10)"
      ],
      "metadata": {
        "id": "M0Xv2bB9VYQZ",
        "outputId": "e324bf66-b7a1-44ff-9912-a3e05ed3f357",
        "colab": {
          "base_uri": "https://localhost:8080/"
        }
      },
      "id": "M0Xv2bB9VYQZ",
      "execution_count": 207,
      "outputs": [
        {
          "output_type": "execute_result",
          "data": {
            "text/plain": [
              "12"
            ]
          },
          "metadata": {},
          "execution_count": 207
        }
      ]
    },
    {
      "cell_type": "markdown",
      "id": "58be9dd4",
      "metadata": {
        "id": "58be9dd4"
      },
      "source": [
        "#### 29. [1, 2, 3, 4, 5] vektor berilgan, har bir qiymat orasiga ketma-ket 3 ta nol raqamini yozuvchi dastur tuzing.\n"
      ]
    },
    {
      "cell_type": "markdown",
      "source": [
        "`💡Ishora` array[::4]"
      ],
      "metadata": {
        "id": "9cf9e134"
      },
      "id": "9cf9e134"
    },
    {
      "cell_type": "code",
      "source": [],
      "metadata": {
        "id": "04IuJ2jaZeYu"
      },
      "id": "04IuJ2jaZeYu",
      "execution_count": null,
      "outputs": []
    },
    {
      "cell_type": "markdown",
      "id": "781fa236",
      "metadata": {
        "id": "781fa236"
      },
      "source": [
        "#### 30. Quyidagi a massiv berilgan, a = [1,2,3,4,5,6,7,8,9,10,11,12,13,14] undan foydalangan holda siz quyidagi b massivni yarata olasizmi, b = [[1,2,3,4], [2,3,4,5], [3,4,5,6], ..., [11,12,13,14]]?\n"
      ]
    },
    {
      "cell_type": "markdown",
      "source": [
        "`💡Ishora` stride_tricks.as_strided"
      ],
      "metadata": {
        "id": "82e3d17e"
      },
      "id": "82e3d17e"
    },
    {
      "cell_type": "code",
      "source": [
        "a = [1,2,3,4,5,6,7,8,9,10,11,12,13,14]\n",
        "b = [[1,2,3,4], [2,3,4,5], [3,4,5,6], ..., [11,12,13,14]]"
      ],
      "metadata": {
        "id": "S1H6ivCua3NZ"
      },
      "id": "S1H6ivCua3NZ",
      "execution_count": 208,
      "outputs": []
    },
    {
      "cell_type": "code",
      "source": [
        "stride_tricks.as_strided(a, b)"
      ],
      "metadata": {
        "id": "pywP9gDlrhy7",
        "outputId": "a44fd4dc-24d4-4d75-d0ab-cfc30e355f58",
        "colab": {
          "base_uri": "https://localhost:8080/",
          "height": 141
        }
      },
      "id": "pywP9gDlrhy7",
      "execution_count": 211,
      "outputs": [
        {
          "output_type": "error",
          "ename": "NameError",
          "evalue": "name 'stride_tricks' is not defined",
          "traceback": [
            "\u001b[0;31m---------------------------------------------------------------------------\u001b[0m",
            "\u001b[0;31mNameError\u001b[0m                                 Traceback (most recent call last)",
            "\u001b[0;32m<ipython-input-211-eeb7fb0096d7>\u001b[0m in \u001b[0;36m<cell line: 0>\u001b[0;34m()\u001b[0m\n\u001b[0;32m----> 1\u001b[0;31m \u001b[0mstride_tricks\u001b[0m\u001b[0;34m.\u001b[0m\u001b[0mas_strided\u001b[0m\u001b[0;34m(\u001b[0m\u001b[0ma\u001b[0m\u001b[0;34m,\u001b[0m \u001b[0mb\u001b[0m\u001b[0;34m)\u001b[0m\u001b[0;34m\u001b[0m\u001b[0;34m\u001b[0m\u001b[0m\n\u001b[0m",
            "\u001b[0;31mNameError\u001b[0m: name 'stride_tricks' is not defined"
          ]
        }
      ]
    },
    {
      "cell_type": "markdown",
      "id": "7d8dc135",
      "metadata": {
        "id": "7d8dc135"
      },
      "source": [
        "#### 31. Ixtiyoriy sonlardan tashkil topgan massiv yarating, unga o'xshash qiymatlar kiriting. So'ng, o'xshash qiymatlarni topuvchi dastur tuzing.\n"
      ]
    },
    {
      "cell_type": "markdown",
      "source": [
        "`💡Ishora` np.bincount, argmax"
      ],
      "metadata": {
        "id": "81844e99"
      },
      "id": "81844e99"
    },
    {
      "cell_type": "code",
      "source": [
        "arr12=np.array([1, 4, 2, 5])\n"
      ],
      "metadata": {
        "id": "SiRaNwxjbaQN"
      },
      "id": "SiRaNwxjbaQN",
      "execution_count": 212,
      "outputs": []
    },
    {
      "cell_type": "code",
      "source": [
        "arr13=np.array([1, 2, 8, 9])"
      ],
      "metadata": {
        "id": "lEaXUNEAsQ7Y"
      },
      "id": "lEaXUNEAsQ7Y",
      "execution_count": 215,
      "outputs": []
    },
    {
      "cell_type": "code",
      "source": [
        "np.bincount(arr12, arr13)"
      ],
      "metadata": {
        "id": "1ysctd-DsPaW",
        "outputId": "3551884d-0a5a-4259-d68e-64337d116105",
        "colab": {
          "base_uri": "https://localhost:8080/"
        }
      },
      "id": "1ysctd-DsPaW",
      "execution_count": 216,
      "outputs": [
        {
          "output_type": "execute_result",
          "data": {
            "text/plain": [
              "array([0., 1., 8., 0., 2., 9.])"
            ]
          },
          "metadata": {},
          "execution_count": 216
        }
      ]
    },
    {
      "cell_type": "markdown",
      "source": [
        "#### BONUS!\n",
        "\n",
        "`💡O'zingiz javob berishni istagan savolni kiriting va unga javob bering!`"
      ],
      "metadata": {
        "id": "URzxwwODb0m_"
      },
      "id": "URzxwwODb0m_"
    },
    {
      "cell_type": "code",
      "source": [],
      "metadata": {
        "id": "9xpR0GVrbzuk"
      },
      "id": "9xpR0GVrbzuk",
      "execution_count": null,
      "outputs": []
    }
  ],
  "metadata": {
    "hide_input": false,
    "kernelspec": {
      "display_name": "Python 3",
      "language": "python",
      "name": "python3"
    },
    "language_info": {
      "codemirror_mode": {
        "name": "ipython",
        "version": 3
      },
      "file_extension": ".py",
      "mimetype": "text/x-python",
      "name": "python",
      "nbconvert_exporter": "python",
      "pygments_lexer": "ipython3",
      "version": "3.8.8"
    },
    "toc": {
      "base_numbering": 1,
      "nav_menu": {},
      "number_sections": true,
      "sideBar": true,
      "skip_h1_title": false,
      "title_cell": "Table of Contents",
      "title_sidebar": "Contents",
      "toc_cell": false,
      "toc_position": {},
      "toc_section_display": true,
      "toc_window_display": false
    },
    "varInspector": {
      "cols": {
        "lenName": 16,
        "lenType": 16,
        "lenVar": 40
      },
      "kernels_config": {
        "python": {
          "delete_cmd_postfix": "",
          "delete_cmd_prefix": "del ",
          "library": "var_list.py",
          "varRefreshCmd": "print(var_dic_list())"
        },
        "r": {
          "delete_cmd_postfix": ") ",
          "delete_cmd_prefix": "rm(",
          "library": "var_list.r",
          "varRefreshCmd": "cat(var_dic_list()) "
        }
      },
      "types_to_exclude": [
        "module",
        "function",
        "builtin_function_or_method",
        "instance",
        "_Feature"
      ],
      "window_display": false
    },
    "colab": {
      "provenance": [],
      "include_colab_link": true
    }
  },
  "nbformat": 4,
  "nbformat_minor": 5
}