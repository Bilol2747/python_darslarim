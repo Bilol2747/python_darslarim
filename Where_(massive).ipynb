{
  "nbformat": 4,
  "nbformat_minor": 0,
  "metadata": {
    "colab": {
      "provenance": [],
      "toc_visible": true,
      "authorship_tag": "ABX9TyOemBVNGr+jywvsj6I3Lvv3",
      "include_colab_link": true
    },
    "kernelspec": {
      "name": "python3",
      "display_name": "Python 3"
    },
    "language_info": {
      "name": "python"
    }
  },
  "cells": [
    {
      "cell_type": "markdown",
      "metadata": {
        "id": "view-in-github",
        "colab_type": "text"
      },
      "source": [
        "<a href=\"https://colab.research.google.com/github/Bilol2747/python_darslarim/blob/main/Where_(massive).ipynb\" target=\"_parent\"><img src=\"https://colab.research.google.com/assets/colab-badge.svg\" alt=\"Open In Colab\"/></a>"
      ]
    },
    {
      "cell_type": "markdown",
      "source": [],
      "metadata": {
        "id": "wm8HxC0E-3xg"
      }
    },
    {
      "cell_type": "markdown",
      "source": [
        "#Massivega yo'naltirilgan dasturlash"
      ],
      "metadata": {
        "id": "3HZn0aES-8WE"
      }
    },
    {
      "cell_type": "code",
      "source": [
        "import numpy as np"
      ],
      "metadata": {
        "id": "weQicnHu_K_6"
      },
      "execution_count": 1,
      "outputs": []
    },
    {
      "cell_type": "code",
      "source": [
        "xarr=np.array([1.1, 1.2, 1.3, 1.4, 1.5])\n",
        "yarr=np.array([2.1, 2.2, 2.3, 2.4, 2.5])"
      ],
      "metadata": {
        "id": "HwF8KMeR_PVx"
      },
      "execution_count": 2,
      "outputs": []
    },
    {
      "cell_type": "code",
      "source": [
        "son=np.array([True, False, True, True, False])\n"
      ],
      "metadata": {
        "id": "b1j8lWsi_1t-"
      },
      "execution_count": 3,
      "outputs": []
    },
    {
      "cell_type": "code",
      "source": [
        "result=np.where(son, xarr, yarr)\n",
        "result"
      ],
      "metadata": {
        "colab": {
          "base_uri": "https://localhost:8080/"
        },
        "id": "C7gwwiryAZPb",
        "outputId": "fcc7ddcf-5993-4376-f4a3-feadb9e52bc2"
      },
      "execution_count": 4,
      "outputs": [
        {
          "output_type": "execute_result",
          "data": {
            "text/plain": [
              "array([1.1, 2.2, 1.3, 1.4, 2.5])"
            ]
          },
          "metadata": {},
          "execution_count": 4
        }
      ]
    },
    {
      "cell_type": "code",
      "source": [
        "arr=np.random.randn(4, 4)\n",
        "arr"
      ],
      "metadata": {
        "colab": {
          "base_uri": "https://localhost:8080/"
        },
        "id": "OMspFuM3A2It",
        "outputId": "bc982bb9-a5cc-4dca-db02-fcad9e44988c"
      },
      "execution_count": 5,
      "outputs": [
        {
          "output_type": "execute_result",
          "data": {
            "text/plain": [
              "array([[-0.85089788, -0.15090735, -0.55398223,  1.53229601],\n",
              "       [-2.15269517, -0.73818351, -0.47237043, -0.03396435],\n",
              "       [-1.03882882, -1.55111783,  0.23059822, -1.40118121],\n",
              "       [-1.06823068,  0.0108004 , -0.59397532, -0.90605812]])"
            ]
          },
          "metadata": {},
          "execution_count": 5
        }
      ]
    },
    {
      "cell_type": "code",
      "source": [
        "results=np.where(arr<0, -2, 2)\n",
        "results"
      ],
      "metadata": {
        "colab": {
          "base_uri": "https://localhost:8080/"
        },
        "id": "RJCIFEqDBHd4",
        "outputId": "9e9d292f-21e7-4e9b-b4e1-2bd40d17cebb"
      },
      "execution_count": 6,
      "outputs": [
        {
          "output_type": "execute_result",
          "data": {
            "text/plain": [
              "array([[-2, -2, -2,  2],\n",
              "       [-2, -2, -2, -2],\n",
              "       [-2, -2,  2, -2],\n",
              "       [-2,  2, -2, -2]])"
            ]
          },
          "metadata": {},
          "execution_count": 6
        }
      ]
    },
    {
      "cell_type": "code",
      "source": [
        "re=np.where(arr>0,  1,  -1)\n",
        "re"
      ],
      "metadata": {
        "colab": {
          "base_uri": "https://localhost:8080/"
        },
        "id": "zIMnFB7XBfFN",
        "outputId": "fb9bae20-54d0-426c-f42e-181a3540b306"
      },
      "execution_count": 10,
      "outputs": [
        {
          "output_type": "execute_result",
          "data": {
            "text/plain": [
              "array([[-1, -1, -1,  1],\n",
              "       [-1, -1, -1, -1],\n",
              "       [-1, -1,  1, -1],\n",
              "       [-1,  1, -1, -1]])"
            ]
          },
          "metadata": {},
          "execution_count": 10
        }
      ]
    },
    {
      "cell_type": "markdown",
      "source": [
        "#Arifmetik Amallar"
      ],
      "metadata": {
        "id": "Y8JA7om9CSEq"
      }
    },
    {
      "cell_type": "code",
      "source": [
        "arr1=np.arange(6).reshape(2, 3)\n",
        "arr2=np.arange(6, 12).reshape(2, 3)\n",
        "arr1\n",
        "arr2"
      ],
      "metadata": {
        "colab": {
          "base_uri": "https://localhost:8080/"
        },
        "id": "h_TeZxvTCv8V",
        "outputId": "8db1de5f-d7f4-4191-b475-a124d2fbe7e1"
      },
      "execution_count": 16,
      "outputs": [
        {
          "output_type": "execute_result",
          "data": {
            "text/plain": [
              "array([[ 6,  7,  8],\n",
              "       [ 9, 10, 11]])"
            ]
          },
          "metadata": {},
          "execution_count": 16
        }
      ]
    },
    {
      "cell_type": "code",
      "source": [
        "arr1"
      ],
      "metadata": {
        "colab": {
          "base_uri": "https://localhost:8080/"
        },
        "id": "SReR91f8DZKP",
        "outputId": "83905649-2d91-4ba1-c416-07314e5bf013"
      },
      "execution_count": 17,
      "outputs": [
        {
          "output_type": "execute_result",
          "data": {
            "text/plain": [
              "array([[0, 1, 2],\n",
              "       [3, 4, 5]])"
            ]
          },
          "metadata": {},
          "execution_count": 17
        }
      ]
    },
    {
      "cell_type": "code",
      "source": [
        "arr1+arr2"
      ],
      "metadata": {
        "colab": {
          "base_uri": "https://localhost:8080/"
        },
        "id": "f3xQcU7QD7zw",
        "outputId": "dfc2ee9f-5e48-4955-cf50-dd791567d2a8"
      },
      "execution_count": 18,
      "outputs": [
        {
          "output_type": "execute_result",
          "data": {
            "text/plain": [
              "array([[ 6,  8, 10],\n",
              "       [12, 14, 16]])"
            ]
          },
          "metadata": {},
          "execution_count": 18
        }
      ]
    },
    {
      "cell_type": "code",
      "source": [
        "arr1*arr2"
      ],
      "metadata": {
        "colab": {
          "base_uri": "https://localhost:8080/"
        },
        "id": "LTp1KSNmEIaz",
        "outputId": "3d914ef4-5f8a-4fdd-f819-f77618f9fc58"
      },
      "execution_count": 19,
      "outputs": [
        {
          "output_type": "execute_result",
          "data": {
            "text/plain": [
              "array([[ 0,  7, 16],\n",
              "       [27, 40, 55]])"
            ]
          },
          "metadata": {},
          "execution_count": 19
        }
      ]
    },
    {
      "cell_type": "code",
      "source": [
        "arr2/arr1"
      ],
      "metadata": {
        "colab": {
          "base_uri": "https://localhost:8080/"
        },
        "id": "vsF0gfSQESM7",
        "outputId": "75f5c790-04e4-4136-d889-cb31ba42437a"
      },
      "execution_count": 21,
      "outputs": [
        {
          "output_type": "stream",
          "name": "stderr",
          "text": [
            "<ipython-input-21-e2e60495effe>:1: RuntimeWarning: divide by zero encountered in divide\n",
            "  arr2/arr1\n"
          ]
        },
        {
          "output_type": "execute_result",
          "data": {
            "text/plain": [
              "array([[inf, 7. , 4. ],\n",
              "       [3. , 2.5, 2.2]])"
            ]
          },
          "metadata": {},
          "execution_count": 21
        }
      ]
    },
    {
      "cell_type": "code",
      "source": [
        "arr2-arr1"
      ],
      "metadata": {
        "colab": {
          "base_uri": "https://localhost:8080/"
        },
        "id": "yiTfSNf7EpeO",
        "outputId": "95d8ca2b-55bb-44a7-9533-4a8e29a8ebc5"
      },
      "execution_count": 22,
      "outputs": [
        {
          "output_type": "execute_result",
          "data": {
            "text/plain": [
              "array([[6, 6, 6],\n",
              "       [6, 6, 6]])"
            ]
          },
          "metadata": {},
          "execution_count": 22
        }
      ]
    },
    {
      "cell_type": "code",
      "source": [
        "arr1\n",
        "arr2"
      ],
      "metadata": {
        "colab": {
          "base_uri": "https://localhost:8080/"
        },
        "id": "13Z9SWq8EX3r",
        "outputId": "1729a8f1-58d7-4762-84fb-fbb352a2fccd"
      },
      "execution_count": 23,
      "outputs": [
        {
          "output_type": "execute_result",
          "data": {
            "text/plain": [
              "array([[ 6,  7,  8],\n",
              "       [ 9, 10, 11]])"
            ]
          },
          "metadata": {},
          "execution_count": 23
        }
      ]
    },
    {
      "cell_type": "code",
      "source": [
        "arr1"
      ],
      "metadata": {
        "colab": {
          "base_uri": "https://localhost:8080/"
        },
        "id": "UyVxJB_zExqL",
        "outputId": "084cfb6a-2375-45c3-b268-050fd3f86eb7"
      },
      "execution_count": 24,
      "outputs": [
        {
          "output_type": "execute_result",
          "data": {
            "text/plain": [
              "array([[0, 1, 2],\n",
              "       [3, 4, 5]])"
            ]
          },
          "metadata": {},
          "execution_count": 24
        }
      ]
    },
    {
      "cell_type": "code",
      "source": [
        "arr1**2"
      ],
      "metadata": {
        "colab": {
          "base_uri": "https://localhost:8080/"
        },
        "id": "aoriSrD0E1f0",
        "outputId": "7e8bcaf2-431b-475e-96f5-ca78910d6b6d"
      },
      "execution_count": 25,
      "outputs": [
        {
          "output_type": "execute_result",
          "data": {
            "text/plain": [
              "array([[ 0,  1,  4],\n",
              "       [ 9, 16, 25]])"
            ]
          },
          "metadata": {},
          "execution_count": 25
        }
      ]
    },
    {
      "cell_type": "code",
      "source": [
        "arr2**3"
      ],
      "metadata": {
        "colab": {
          "base_uri": "https://localhost:8080/"
        },
        "id": "44xqb1LTFcJl",
        "outputId": "5ae3ed99-a1aa-42b6-99e7-c051ab80cc0e"
      },
      "execution_count": 26,
      "outputs": [
        {
          "output_type": "execute_result",
          "data": {
            "text/plain": [
              "array([[ 216,  343,  512],\n",
              "       [ 729, 1000, 1331]])"
            ]
          },
          "metadata": {},
          "execution_count": 26
        }
      ]
    },
    {
      "cell_type": "code",
      "source": [
        "arr2**(1/2)"
      ],
      "metadata": {
        "colab": {
          "base_uri": "https://localhost:8080/"
        },
        "id": "NWgM-XGKFgku",
        "outputId": "5d881942-2127-4860-fa15-2c7daafa2f2c"
      },
      "execution_count": 28,
      "outputs": [
        {
          "output_type": "execute_result",
          "data": {
            "text/plain": [
              "array([[2.44948974, 2.64575131, 2.82842712],\n",
              "       [3.        , 3.16227766, 3.31662479]])"
            ]
          },
          "metadata": {},
          "execution_count": 28
        }
      ]
    },
    {
      "cell_type": "code",
      "source": [
        "arr2**0.5"
      ],
      "metadata": {
        "colab": {
          "base_uri": "https://localhost:8080/"
        },
        "id": "T3YTElB1Fnb9",
        "outputId": "b15fd0c6-8cd0-46d6-fb8a-d1e3de3739c9"
      },
      "execution_count": 29,
      "outputs": [
        {
          "output_type": "execute_result",
          "data": {
            "text/plain": [
              "array([[2.44948974, 2.64575131, 2.82842712],\n",
              "       [3.        , 3.16227766, 3.31662479]])"
            ]
          },
          "metadata": {},
          "execution_count": 29
        }
      ]
    },
    {
      "cell_type": "markdown",
      "source": [
        "# Matematik va statistik usullarni qo'llash"
      ],
      "metadata": {
        "id": "a1ilhRbBGcKx"
      }
    },
    {
      "cell_type": "code",
      "source": [
        "arr=np.random.randn(5, 4)"
      ],
      "metadata": {
        "id": "PmYLDziuFyel"
      },
      "execution_count": 30,
      "outputs": []
    },
    {
      "cell_type": "code",
      "source": [
        "arr"
      ],
      "metadata": {
        "colab": {
          "base_uri": "https://localhost:8080/"
        },
        "id": "Ua-dYQ_NG-RB",
        "outputId": "10192b3f-680e-4d60-c17b-d317ecff49fb"
      },
      "execution_count": 31,
      "outputs": [
        {
          "output_type": "execute_result",
          "data": {
            "text/plain": [
              "array([[ 0.7687714 ,  0.78446476,  0.30026448, -0.29776392],\n",
              "       [-0.1355508 ,  1.67910659, -0.47875927,  0.06885602],\n",
              "       [-0.94287953,  0.25421776,  1.09779846, -0.60560637],\n",
              "       [ 1.28414996,  0.88649934, -0.5961494 ,  0.2050192 ],\n",
              "       [-1.18950906,  0.23829609, -1.15070672,  0.06446409]])"
            ]
          },
          "metadata": {},
          "execution_count": 31
        }
      ]
    },
    {
      "cell_type": "code",
      "source": [
        "arr.sum()"
      ],
      "metadata": {
        "colab": {
          "base_uri": "https://localhost:8080/"
        },
        "id": "qE5ErP3iG_zZ",
        "outputId": "8965fa9a-1dd4-46e5-a2ab-68d4eee1c56b"
      },
      "execution_count": 33,
      "outputs": [
        {
          "output_type": "execute_result",
          "data": {
            "text/plain": [
              "2.234983097877648"
            ]
          },
          "metadata": {},
          "execution_count": 33
        }
      ]
    },
    {
      "cell_type": "code",
      "source": [
        "arr[0]"
      ],
      "metadata": {
        "colab": {
          "base_uri": "https://localhost:8080/"
        },
        "id": "CssjCvMfHFNg",
        "outputId": "a815a60e-3d07-4d34-98e4-a4553cd42e1d"
      },
      "execution_count": 34,
      "outputs": [
        {
          "output_type": "execute_result",
          "data": {
            "text/plain": [
              "array([ 0.7687714 ,  0.78446476,  0.30026448, -0.29776392])"
            ]
          },
          "metadata": {},
          "execution_count": 34
        }
      ]
    },
    {
      "cell_type": "code",
      "source": [
        "np.sum(arr, axis=1)"
      ],
      "metadata": {
        "colab": {
          "base_uri": "https://localhost:8080/"
        },
        "id": "VCKJ0gDwHcjw",
        "outputId": "a7e2b6ab-e78e-4386-e221-1d5bc74cb0e1"
      },
      "execution_count": 36,
      "outputs": [
        {
          "output_type": "execute_result",
          "data": {
            "text/plain": [
              "array([ 1.55573673,  1.13365255, -0.19646967,  1.7795191 , -2.03745561])"
            ]
          },
          "metadata": {},
          "execution_count": 36
        }
      ]
    },
    {
      "cell_type": "code",
      "source": [
        "arr.sum(axis=0)"
      ],
      "metadata": {
        "colab": {
          "base_uri": "https://localhost:8080/"
        },
        "id": "V_rxjs2rHi9v",
        "outputId": "83f7bbf7-323b-4a08-a651-e2062d511438"
      },
      "execution_count": 38,
      "outputs": [
        {
          "output_type": "execute_result",
          "data": {
            "text/plain": [
              "array([-0.21501803,  3.84258456, -0.82755245, -0.56503097])"
            ]
          },
          "metadata": {},
          "execution_count": 38
        }
      ]
    },
    {
      "cell_type": "code",
      "source": [
        "data=np.arange(0, 5)"
      ],
      "metadata": {
        "id": "uu_mE83yIVnq"
      },
      "execution_count": 39,
      "outputs": []
    },
    {
      "cell_type": "code",
      "source": [
        "data"
      ],
      "metadata": {
        "colab": {
          "base_uri": "https://localhost:8080/"
        },
        "id": "zRmaDt_hIy4V",
        "outputId": "7c158e34-2e02-4575-b1f4-32f80447aa67"
      },
      "execution_count": 40,
      "outputs": [
        {
          "output_type": "execute_result",
          "data": {
            "text/plain": [
              "array([0, 1, 2, 3, 4])"
            ]
          },
          "metadata": {},
          "execution_count": 40
        }
      ]
    },
    {
      "cell_type": "code",
      "source": [
        "data.mean()"
      ],
      "metadata": {
        "colab": {
          "base_uri": "https://localhost:8080/"
        },
        "id": "9zWB1a39I2L2",
        "outputId": "aa99af53-b966-4aad-b1e1-e77c9c17ffd5"
      },
      "execution_count": 41,
      "outputs": [
        {
          "output_type": "execute_result",
          "data": {
            "text/plain": [
              "2.0"
            ]
          },
          "metadata": {},
          "execution_count": 41
        }
      ]
    },
    {
      "cell_type": "code",
      "source": [
        "np.mean(data)"
      ],
      "metadata": {
        "colab": {
          "base_uri": "https://localhost:8080/"
        },
        "id": "BlDrbPLaI5QL",
        "outputId": "86683df0-456f-4ae2-f8ca-f79112cb808b"
      },
      "execution_count": 42,
      "outputs": [
        {
          "output_type": "execute_result",
          "data": {
            "text/plain": [
              "2.0"
            ]
          },
          "metadata": {},
          "execution_count": 42
        }
      ]
    },
    {
      "cell_type": "code",
      "source": [
        "arr.mean()"
      ],
      "metadata": {
        "colab": {
          "base_uri": "https://localhost:8080/"
        },
        "id": "qfKqc2rPJEk0",
        "outputId": "5def1d5f-940d-4301-e6d7-32bff09a8ce2"
      },
      "execution_count": 43,
      "outputs": [
        {
          "output_type": "execute_result",
          "data": {
            "text/plain": [
              "0.1117491548938824"
            ]
          },
          "metadata": {},
          "execution_count": 43
        }
      ]
    },
    {
      "cell_type": "code",
      "source": [
        "np.mean(arr)"
      ],
      "metadata": {
        "colab": {
          "base_uri": "https://localhost:8080/"
        },
        "id": "0MMEGKBYJQF5",
        "outputId": "9c8fca28-9cee-44fc-9722-90d38f38d025"
      },
      "execution_count": 44,
      "outputs": [
        {
          "output_type": "execute_result",
          "data": {
            "text/plain": [
              "0.1117491548938824"
            ]
          },
          "metadata": {},
          "execution_count": 44
        }
      ]
    },
    {
      "cell_type": "code",
      "source": [
        "\n",
        "np.mean(arr, axis=1)"
      ],
      "metadata": {
        "colab": {
          "base_uri": "https://localhost:8080/"
        },
        "id": "Mx49VmXbJWmP",
        "outputId": "e6074b8a-11ed-47b6-bff9-e358087a6231"
      },
      "execution_count": 45,
      "outputs": [
        {
          "output_type": "execute_result",
          "data": {
            "text/plain": [
              "array([ 0.38893418,  0.28341314, -0.04911742,  0.44487977, -0.5093639 ])"
            ]
          },
          "metadata": {},
          "execution_count": 45
        }
      ]
    },
    {
      "cell_type": "code",
      "source": [
        "arr"
      ],
      "metadata": {
        "colab": {
          "base_uri": "https://localhost:8080/"
        },
        "id": "o7CzmcyVJgKH",
        "outputId": "72fc5f33-c2f8-4be9-d1ee-a10e9f101626"
      },
      "execution_count": 46,
      "outputs": [
        {
          "output_type": "execute_result",
          "data": {
            "text/plain": [
              "array([[ 0.7687714 ,  0.78446476,  0.30026448, -0.29776392],\n",
              "       [-0.1355508 ,  1.67910659, -0.47875927,  0.06885602],\n",
              "       [-0.94287953,  0.25421776,  1.09779846, -0.60560637],\n",
              "       [ 1.28414996,  0.88649934, -0.5961494 ,  0.2050192 ],\n",
              "       [-1.18950906,  0.23829609, -1.15070672,  0.06446409]])"
            ]
          },
          "metadata": {},
          "execution_count": 46
        }
      ]
    },
    {
      "cell_type": "code",
      "source": [
        "arr.mean(axis=0)"
      ],
      "metadata": {
        "colab": {
          "base_uri": "https://localhost:8080/"
        },
        "id": "cCmzs-v1Jk_M",
        "outputId": "04359551-cede-47b8-8ddd-802f1469cd3b"
      },
      "execution_count": 47,
      "outputs": [
        {
          "output_type": "execute_result",
          "data": {
            "text/plain": [
              "array([-0.04300361,  0.76851691, -0.16551049, -0.11300619])"
            ]
          },
          "metadata": {},
          "execution_count": 47
        }
      ]
    },
    {
      "cell_type": "code",
      "source": [
        "#cumsum"
      ],
      "metadata": {
        "id": "GTdXvDzIJxMo"
      },
      "execution_count": 48,
      "outputs": []
    },
    {
      "cell_type": "code",
      "source": [
        "data"
      ],
      "metadata": {
        "colab": {
          "base_uri": "https://localhost:8080/"
        },
        "id": "qWaArV4WJ9n7",
        "outputId": "4d7fc377-dc5c-477c-b2ee-bb685e563763"
      },
      "execution_count": 49,
      "outputs": [
        {
          "output_type": "execute_result",
          "data": {
            "text/plain": [
              "array([0, 1, 2, 3, 4])"
            ]
          },
          "metadata": {},
          "execution_count": 49
        }
      ]
    },
    {
      "cell_type": "code",
      "source": [
        "data.cumsum()"
      ],
      "metadata": {
        "colab": {
          "base_uri": "https://localhost:8080/"
        },
        "id": "UjE8FUjmKAcq",
        "outputId": "ea08d08a-1d03-4759-e424-499aa58d312e"
      },
      "execution_count": 51,
      "outputs": [
        {
          "output_type": "execute_result",
          "data": {
            "text/plain": [
              "array([ 0,  1,  3,  6, 10])"
            ]
          },
          "metadata": {},
          "execution_count": 51
        }
      ]
    },
    {
      "cell_type": "code",
      "source": [
        "data.sum()"
      ],
      "metadata": {
        "colab": {
          "base_uri": "https://localhost:8080/"
        },
        "id": "kNOt9bNhKSRV",
        "outputId": "15c25162-35bb-4bc6-d075-cb622381f393"
      },
      "execution_count": 53,
      "outputs": [
        {
          "output_type": "execute_result",
          "data": {
            "text/plain": [
              "10"
            ]
          },
          "metadata": {},
          "execution_count": 53
        }
      ]
    },
    {
      "cell_type": "code",
      "source": [
        "arr"
      ],
      "metadata": {
        "colab": {
          "base_uri": "https://localhost:8080/"
        },
        "id": "hi5vszU9Ka_L",
        "outputId": "878e572e-16c3-459e-fdf3-86286909fcac"
      },
      "execution_count": 54,
      "outputs": [
        {
          "output_type": "execute_result",
          "data": {
            "text/plain": [
              "array([[ 0.7687714 ,  0.78446476,  0.30026448, -0.29776392],\n",
              "       [-0.1355508 ,  1.67910659, -0.47875927,  0.06885602],\n",
              "       [-0.94287953,  0.25421776,  1.09779846, -0.60560637],\n",
              "       [ 1.28414996,  0.88649934, -0.5961494 ,  0.2050192 ],\n",
              "       [-1.18950906,  0.23829609, -1.15070672,  0.06446409]])"
            ]
          },
          "metadata": {},
          "execution_count": 54
        }
      ]
    },
    {
      "cell_type": "code",
      "source": [
        "arr.cumsum()"
      ],
      "metadata": {
        "colab": {
          "base_uri": "https://localhost:8080/"
        },
        "id": "FkVwNLqPKevj",
        "outputId": "babc43f0-d99c-4112-c5d7-acab4f437dec"
      },
      "execution_count": 56,
      "outputs": [
        {
          "output_type": "execute_result",
          "data": {
            "text/plain": [
              "array([0.7687714 , 1.55323616, 1.85350064, 1.55573673, 1.42018593,\n",
              "       3.09929253, 2.62053326, 2.68938928, 1.74650975, 2.00072751,\n",
              "       3.09852597, 2.49291961, 3.77706956, 4.6635689 , 4.0674195 ,\n",
              "       4.27243871, 3.08292964, 3.32122573, 2.17051901, 2.2349831 ])"
            ]
          },
          "metadata": {},
          "execution_count": 56
        }
      ]
    },
    {
      "cell_type": "code",
      "source": [],
      "metadata": {
        "id": "JjreWBXKKjCd"
      },
      "execution_count": null,
      "outputs": []
    },
    {
      "cell_type": "markdown",
      "source": [
        "# Tartiblash(Sorting)"
      ],
      "metadata": {
        "id": "Aba86nCCLKOG"
      }
    },
    {
      "cell_type": "code",
      "source": [],
      "metadata": {
        "id": "kDK8S5VpLSJ_"
      },
      "execution_count": null,
      "outputs": []
    }
  ]
}