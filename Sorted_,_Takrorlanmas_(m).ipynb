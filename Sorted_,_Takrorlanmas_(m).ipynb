{
  "nbformat": 4,
  "nbformat_minor": 0,
  "metadata": {
    "colab": {
      "provenance": [],
      "authorship_tag": "ABX9TyNq6vX58NTgx8lDKlE3ga1S",
      "include_colab_link": true
    },
    "kernelspec": {
      "name": "python3",
      "display_name": "Python 3"
    },
    "language_info": {
      "name": "python"
    }
  },
  "cells": [
    {
      "cell_type": "markdown",
      "metadata": {
        "id": "view-in-github",
        "colab_type": "text"
      },
      "source": [
        "<a href=\"https://colab.research.google.com/github/Bilol2747/python_darslarim/blob/main/Sorted_%2C_Takrorlanmas_(m).ipynb\" target=\"_parent\"><img src=\"https://colab.research.google.com/assets/colab-badge.svg\" alt=\"Open In Colab\"/></a>"
      ]
    },
    {
      "cell_type": "code",
      "execution_count": 1,
      "metadata": {
        "id": "gdqx5zheyg-p"
      },
      "outputs": [],
      "source": [
        "import numpy as np"
      ]
    },
    {
      "cell_type": "code",
      "source": [
        "arr=np.random.rand(4)\n",
        "arr"
      ],
      "metadata": {
        "colab": {
          "base_uri": "https://localhost:8080/"
        },
        "id": "jn_1VHQ50R2l",
        "outputId": "7e736037-926a-43e6-b8f4-014c159964f9"
      },
      "execution_count": 4,
      "outputs": [
        {
          "output_type": "execute_result",
          "data": {
            "text/plain": [
              "array([0.85590142, 0.15499599, 0.15362445, 0.07427661])"
            ]
          },
          "metadata": {},
          "execution_count": 4
        }
      ]
    },
    {
      "cell_type": "code",
      "source": [
        "np.sort(arr)"
      ],
      "metadata": {
        "colab": {
          "base_uri": "https://localhost:8080/"
        },
        "id": "Sb-5UMKO0nPO",
        "outputId": "3da61726-0923-48c2-cb86-732e4c6f919d"
      },
      "execution_count": 5,
      "outputs": [
        {
          "output_type": "execute_result",
          "data": {
            "text/plain": [
              "array([0.07427661, 0.15362445, 0.15499599, 0.85590142])"
            ]
          },
          "metadata": {},
          "execution_count": 5
        }
      ]
    },
    {
      "cell_type": "code",
      "source": [
        "sorted_arr=np.sort(arr)\n",
        "sorted_arr"
      ],
      "metadata": {
        "colab": {
          "base_uri": "https://localhost:8080/"
        },
        "id": "M26wUKbj000H",
        "outputId": "267e7843-3817-4681-e566-24e105c220ce"
      },
      "execution_count": 6,
      "outputs": [
        {
          "output_type": "execute_result",
          "data": {
            "text/plain": [
              "array([0.07427661, 0.15362445, 0.15499599, 0.85590142])"
            ]
          },
          "metadata": {},
          "execution_count": 6
        }
      ]
    },
    {
      "cell_type": "code",
      "source": [
        "rev_arr=-np.sort(-arr)\n",
        "rev_arr"
      ],
      "metadata": {
        "colab": {
          "base_uri": "https://localhost:8080/"
        },
        "id": "JBF5gJvp1I9c",
        "outputId": "8b86bd30-d0c6-4fd2-8153-b7b617b3ff45"
      },
      "execution_count": 7,
      "outputs": [
        {
          "output_type": "execute_result",
          "data": {
            "text/plain": [
              "array([0.85590142, 0.15499599, 0.15362445, 0.07427661])"
            ]
          },
          "metadata": {},
          "execution_count": 7
        }
      ]
    },
    {
      "cell_type": "code",
      "source": [
        "arr1=np.random.randn(2, 4)\n",
        "arr1"
      ],
      "metadata": {
        "colab": {
          "base_uri": "https://localhost:8080/"
        },
        "id": "GCZghgOi1x62",
        "outputId": "f29ef739-0334-404d-e2ee-cde20c4673c9"
      },
      "execution_count": 8,
      "outputs": [
        {
          "output_type": "execute_result",
          "data": {
            "text/plain": [
              "array([[ 0.76339667, -0.93719206, -0.1623134 , -2.1088075 ],\n",
              "       [ 0.73766211, -0.41751187,  0.53145722,  0.27301107]])"
            ]
          },
          "metadata": {},
          "execution_count": 8
        }
      ]
    },
    {
      "cell_type": "code",
      "source": [
        "row_sorted=-np.sort(-arr1, axis=1)\n",
        "row_sorted"
      ],
      "metadata": {
        "colab": {
          "base_uri": "https://localhost:8080/"
        },
        "id": "4njD4lMT169a",
        "outputId": "9b29c975-72b5-4bd7-86fc-948ea6aa0d3d"
      },
      "execution_count": 11,
      "outputs": [
        {
          "output_type": "execute_result",
          "data": {
            "text/plain": [
              "array([[ 0.76339667, -0.1623134 , -0.93719206, -2.1088075 ],\n",
              "       [ 0.73766211,  0.53145722,  0.27301107, -0.41751187]])"
            ]
          },
          "metadata": {},
          "execution_count": 11
        }
      ]
    },
    {
      "cell_type": "code",
      "source": [],
      "metadata": {
        "id": "rBl0JFuN2XoA"
      },
      "execution_count": null,
      "outputs": []
    },
    {
      "cell_type": "markdown",
      "source": [
        "# Uniqe, in1d, setdiff1d va boshqa usullar haqida"
      ],
      "metadata": {
        "id": "jhE6IWuV3N0a"
      }
    },
    {
      "cell_type": "code",
      "source": [
        "names=np.array(['Sarvar', 'Abdurahmon', ' Saloh', 'Temur', 'Sarvar', \" Ilhom\"])\n",
        "ints=np.array([3, 3, 3, 2, 2, 1, 1, 4, 4])"
      ],
      "metadata": {
        "id": "hB1pYi_Y56U8"
      },
      "execution_count": 23,
      "outputs": []
    },
    {
      "cell_type": "code",
      "source": [
        "np.unique(names)"
      ],
      "metadata": {
        "colab": {
          "base_uri": "https://localhost:8080/"
        },
        "id": "ussbAHl46izB",
        "outputId": "e0ea5ee3-8750-437a-8f1d-45e3a22d4601"
      },
      "execution_count": 13,
      "outputs": [
        {
          "output_type": "execute_result",
          "data": {
            "text/plain": [
              "array(['Abdurahmon', 'Hasan', 'Sarvar', 'Temur'], dtype='<U10')"
            ]
          },
          "metadata": {},
          "execution_count": 13
        }
      ]
    },
    {
      "cell_type": "code",
      "source": [
        "names"
      ],
      "metadata": {
        "colab": {
          "base_uri": "https://localhost:8080/"
        },
        "id": "BmvOHnVm6tiL",
        "outputId": "02f94aa3-55f3-4f00-fcc9-28d55b8e18ea"
      },
      "execution_count": 14,
      "outputs": [
        {
          "output_type": "execute_result",
          "data": {
            "text/plain": [
              "array(['Sarvar', 'Abdurahmon', 'Hasan', 'Temur', 'Sarvar', 'Temur'],\n",
              "      dtype='<U10')"
            ]
          },
          "metadata": {},
          "execution_count": 14
        }
      ]
    },
    {
      "cell_type": "code",
      "source": [
        "set(names)"
      ],
      "metadata": {
        "colab": {
          "base_uri": "https://localhost:8080/"
        },
        "id": "NNvWAJ4Q69qZ",
        "outputId": "2ec9d1fc-c790-4999-9355-ade810908e2b"
      },
      "execution_count": 16,
      "outputs": [
        {
          "output_type": "execute_result",
          "data": {
            "text/plain": [
              "{'Abdurahmon', 'Hasan', 'Sarvar', 'Temur'}"
            ]
          },
          "metadata": {},
          "execution_count": 16
        }
      ]
    },
    {
      "cell_type": "code",
      "source": [
        "np.unique(ints)"
      ],
      "metadata": {
        "colab": {
          "base_uri": "https://localhost:8080/"
        },
        "id": "8yrVqwee7MHF",
        "outputId": "b92e7b69-5353-47da-a892-1f9c35a83877"
      },
      "execution_count": 17,
      "outputs": [
        {
          "output_type": "execute_result",
          "data": {
            "text/plain": [
              "array([1, 2, 3, 4])"
            ]
          },
          "metadata": {},
          "execution_count": 17
        }
      ]
    },
    {
      "cell_type": "code",
      "source": [
        "arr1=np.array([6, 0, 0, 3, 2, 5, 6])\n",
        "arr2=np.array([0, 2, 3])"
      ],
      "metadata": {
        "id": "A-JVs6mD7vKV"
      },
      "execution_count": 18,
      "outputs": []
    },
    {
      "cell_type": "code",
      "source": [
        "np.in1d(arr1, arr2)"
      ],
      "metadata": {
        "colab": {
          "base_uri": "https://localhost:8080/"
        },
        "id": "WE0WjO6Y7sUM",
        "outputId": "fe435397-2b9b-4469-d51c-375b876c1524"
      },
      "execution_count": 19,
      "outputs": [
        {
          "output_type": "execute_result",
          "data": {
            "text/plain": [
              "array([False,  True,  True,  True,  True, False, False])"
            ]
          },
          "metadata": {},
          "execution_count": 19
        }
      ]
    },
    {
      "cell_type": "code",
      "source": [],
      "metadata": {
        "id": "9u7OWI1L8tC8"
      },
      "execution_count": null,
      "outputs": []
    },
    {
      "cell_type": "code",
      "source": [
        "names"
      ],
      "metadata": {
        "colab": {
          "base_uri": "https://localhost:8080/"
        },
        "id": "nru0QSz78Lr-",
        "outputId": "e2a457d5-9585-435b-f1fa-14fa2f9c8a89"
      },
      "execution_count": 20,
      "outputs": [
        {
          "output_type": "execute_result",
          "data": {
            "text/plain": [
              "array(['Sarvar', 'Abdurahmon', 'Hasan', 'Temur', 'Sarvar', 'Temur'],\n",
              "      dtype='<U10')"
            ]
          },
          "metadata": {},
          "execution_count": 20
        }
      ]
    },
    {
      "cell_type": "code",
      "source": [
        "names1=np.array(['Sarvar',  'Bilol', 'Hasan', ' Jalol', 'Sarvar', 'Temur'])"
      ],
      "metadata": {
        "id": "uVwaZFtD8Wqi"
      },
      "execution_count": 21,
      "outputs": []
    },
    {
      "cell_type": "code",
      "source": [
        "np.setdiff1d(names, names1)"
      ],
      "metadata": {
        "colab": {
          "base_uri": "https://localhost:8080/"
        },
        "id": "EVnZJtlI9KJ0",
        "outputId": "ab6cc9bf-6442-4a03-e634-42b0e8b659f2"
      },
      "execution_count": 24,
      "outputs": [
        {
          "output_type": "execute_result",
          "data": {
            "text/plain": [
              "array([' Ilhom', ' Saloh', 'Abdurahmon'], dtype='<U10')"
            ]
          },
          "metadata": {},
          "execution_count": 24
        }
      ]
    },
    {
      "cell_type": "code",
      "source": [],
      "metadata": {
        "id": "0yPxr5fH9mrx"
      },
      "execution_count": null,
      "outputs": []
    }
  ]
}