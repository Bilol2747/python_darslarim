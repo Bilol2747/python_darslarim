{
  "nbformat": 4,
  "nbformat_minor": 0,
  "metadata": {
    "colab": {
      "provenance": [],
      "authorship_tag": "ABX9TyME+LmcXYC2cAC5tuUAjQ9W",
      "include_colab_link": true
    },
    "kernelspec": {
      "name": "python3",
      "display_name": "Python 3"
    },
    "language_info": {
      "name": "python"
    }
  },
  "cells": [
    {
      "cell_type": "markdown",
      "metadata": {
        "id": "view-in-github",
        "colab_type": "text"
      },
      "source": [
        "<a href=\"https://colab.research.google.com/github/Bilol2747/python_darslarim/blob/main/Homework.ipynb\" target=\"_parent\"><img src=\"https://colab.research.google.com/assets/colab-badge.svg\" alt=\"Open In Colab\"/></a>"
      ]
    },
    {
      "cell_type": "code",
      "execution_count": null,
      "metadata": {
        "id": "85STrCrWmN18"
      },
      "outputs": [],
      "source": [
        "import pandas as pd\n",
        "import numpy as np\n"
      ]
    },
    {
      "cell_type": "code",
      "source": [
        "data=np.load(\"/content/sales_data (3).npy\")"
      ],
      "metadata": {
        "id": "k0VQM1ilmoGb"
      },
      "execution_count": null,
      "outputs": []
    },
    {
      "cell_type": "code",
      "source": [],
      "metadata": {
        "id": "w3XNYHgSLZm9"
      },
      "execution_count": null,
      "outputs": []
    },
    {
      "cell_type": "markdown",
      "source": [
        "1. Massivdagi jami satrlar va ustunlar sonini aniqlang.\n"
      ],
      "metadata": {
        "id": "goEIDt9ZqBmQ"
      }
    },
    {
      "cell_type": "code",
      "source": [
        "print(f\"Jami ustunlar soni: {data.shape[1]}\")\n",
        "print(f\"Jami qatorlar soni: {data.shape[0]}\")"
      ],
      "metadata": {
        "colab": {
          "base_uri": "https://localhost:8080/"
        },
        "id": "2QAv255Wosxp",
        "outputId": "aeb09506-9d66-435f-8368-8dd9e0600b19"
      },
      "execution_count": null,
      "outputs": [
        {
          "output_type": "stream",
          "name": "stdout",
          "text": [
            "Jami ustunlar soni: 5\n",
            "Jami qatorlar soni: 100\n"
          ]
        }
      ]
    },
    {
      "cell_type": "markdown",
      "source": [
        "2. Birinchi 10 ta yozuvni ekranga chiqaring.\n"
      ],
      "metadata": {
        "id": "AtEk6m-cp-E3"
      }
    },
    {
      "cell_type": "code",
      "source": [
        "print(data[:10 ,:])"
      ],
      "metadata": {
        "colab": {
          "base_uri": "https://localhost:8080/"
        },
        "id": "JHXZQU1Cpzbz",
        "outputId": "5d6e70b6-a539-449f-d015-cc9bfaedf828"
      },
      "execution_count": null,
      "outputs": [
        {
          "output_type": "stream",
          "name": "stdout",
          "text": [
            "[[      7       4      48   40746 1955808]\n",
            " [      4       2      16   42352  677632]\n",
            " [      8       1      33   49790 1643070]\n",
            " [      5       5       9   15600  140400]\n",
            " [      7       3       6   39124  234744]\n",
            " [     10       4      16   37643  602288]\n",
            " [      3       3      29   19007  551203]\n",
            " [      7       3       3   47410  142230]\n",
            " [      8       1      20   18208  364160]\n",
            " [      5       3      36   28589 1029204]]\n"
          ]
        }
      ]
    },
    {
      "cell_type": "markdown",
      "source": [
        "3.Faqat Product_ID ustunini ajratib oling.\n"
      ],
      "metadata": {
        "id": "e5h5j6H6riVz"
      }
    },
    {
      "cell_type": "code",
      "source": [
        "print(data[:, :1])"
      ],
      "metadata": {
        "colab": {
          "base_uri": "https://localhost:8080/"
        },
        "id": "a5Gk4_eDqFbK",
        "outputId": "17761c05-8aa5-4f20-936a-18b513bb5969"
      },
      "execution_count": null,
      "outputs": [
        {
          "output_type": "stream",
          "name": "stdout",
          "text": [
            "[[ 7]\n",
            " [ 4]\n",
            " [ 8]\n",
            " [ 5]\n",
            " [ 7]\n",
            " [10]\n",
            " [ 3]\n",
            " [ 7]\n",
            " [ 8]\n",
            " [ 5]\n",
            " [ 4]\n",
            " [ 8]\n",
            " [ 8]\n",
            " [ 3]\n",
            " [ 6]\n",
            " [ 5]\n",
            " [ 2]\n",
            " [ 8]\n",
            " [ 6]\n",
            " [ 2]\n",
            " [ 5]\n",
            " [ 1]\n",
            " [10]\n",
            " [ 6]\n",
            " [ 9]\n",
            " [ 1]\n",
            " [10]\n",
            " [ 3]\n",
            " [ 7]\n",
            " [ 4]\n",
            " [ 9]\n",
            " [ 3]\n",
            " [ 5]\n",
            " [ 3]\n",
            " [ 7]\n",
            " [ 5]\n",
            " [ 9]\n",
            " [ 7]\n",
            " [ 2]\n",
            " [ 4]\n",
            " [ 9]\n",
            " [ 2]\n",
            " [10]\n",
            " [ 9]\n",
            " [10]\n",
            " [ 5]\n",
            " [ 2]\n",
            " [ 4]\n",
            " [ 7]\n",
            " [ 8]\n",
            " [ 3]\n",
            " [ 1]\n",
            " [ 4]\n",
            " [ 2]\n",
            " [ 8]\n",
            " [ 4]\n",
            " [ 2]\n",
            " [ 6]\n",
            " [ 6]\n",
            " [10]\n",
            " [ 4]\n",
            " [ 6]\n",
            " [ 2]\n",
            " [10]\n",
            " [ 2]\n",
            " [10]\n",
            " [ 4]\n",
            " [ 8]\n",
            " [ 7]\n",
            " [ 9]\n",
            " [ 8]\n",
            " [ 5]\n",
            " [ 2]\n",
            " [ 5]\n",
            " [ 8]\n",
            " [10]\n",
            " [ 9]\n",
            " [ 9]\n",
            " [ 1]\n",
            " [ 9]\n",
            " [ 7]\n",
            " [ 9]\n",
            " [ 8]\n",
            " [ 1]\n",
            " [ 8]\n",
            " [ 8]\n",
            " [ 3]\n",
            " [ 1]\n",
            " [ 8]\n",
            " [ 3]\n",
            " [ 3]\n",
            " [ 1]\n",
            " [ 5]\n",
            " [10]\n",
            " [ 7]\n",
            " [10]\n",
            " [ 9]\n",
            " [ 7]\n",
            " [ 9]\n",
            " [ 8]]\n"
          ]
        }
      ]
    },
    {
      "cell_type": "markdown",
      "source": [
        "4. Faqat Revenue ustunini ajratib oling."
      ],
      "metadata": {
        "id": "LXwVuGdltTZ9"
      }
    },
    {
      "cell_type": "code",
      "source": [
        "print(data[:, 4:])"
      ],
      "metadata": {
        "colab": {
          "base_uri": "https://localhost:8080/"
        },
        "id": "TvlBI7Ntr8_B",
        "outputId": "8ecb47aa-b05b-4f76-f02e-046767534f9c"
      },
      "execution_count": null,
      "outputs": [
        {
          "output_type": "stream",
          "name": "stdout",
          "text": [
            "[[1955808]\n",
            " [ 677632]\n",
            " [1643070]\n",
            " [ 140400]\n",
            " [ 234744]\n",
            " [ 602288]\n",
            " [ 551203]\n",
            " [ 142230]\n",
            " [ 364160]\n",
            " [1029204]\n",
            " [ 521607]\n",
            " [1201512]\n",
            " [ 127905]\n",
            " [ 832732]\n",
            " [ 574220]\n",
            " [ 429440]\n",
            " [ 288512]\n",
            " [ 422341]\n",
            " [ 353067]\n",
            " [ 407600]\n",
            " [ 799188]\n",
            " [ 823374]\n",
            " [ 644080]\n",
            " [  29778]\n",
            " [ 403051]\n",
            " [1248352]\n",
            " [1068625]\n",
            " [1654650]\n",
            " [ 243087]\n",
            " [1494510]\n",
            " [1339890]\n",
            " [1958502]\n",
            " [ 610925]\n",
            " [  98098]\n",
            " [ 337488]\n",
            " [ 729820]\n",
            " [2197296]\n",
            " [1300362]\n",
            " [  41458]\n",
            " [  44177]\n",
            " [ 517632]\n",
            " [ 453012]\n",
            " [ 112665]\n",
            " [1849038]\n",
            " [ 505632]\n",
            " [ 262710]\n",
            " [1998914]\n",
            " [1385720]\n",
            " [ 392293]\n",
            " [ 898368]\n",
            " [ 533680]\n",
            " [  96027]\n",
            " [ 687520]\n",
            " [ 354720]\n",
            " [ 408144]\n",
            " [ 528936]\n",
            " [ 183205]\n",
            " [ 710255]\n",
            " [ 167144]\n",
            " [1279692]\n",
            " [1230668]\n",
            " [ 936120]\n",
            " [ 841940]\n",
            " [ 809235]\n",
            " [1006368]\n",
            " [1090525]\n",
            " [1340920]\n",
            " [ 816925]\n",
            " [1197381]\n",
            " [ 738432]\n",
            " [ 679742]\n",
            " [ 715482]\n",
            " [  50676]\n",
            " [ 437185]\n",
            " [ 595776]\n",
            " [1008559]\n",
            " [1062288]\n",
            " [ 430683]\n",
            " [ 126424]\n",
            " [1046067]\n",
            " [ 152264]\n",
            " [ 883953]\n",
            " [ 678816]\n",
            " [ 504040]\n",
            " [ 397872]\n",
            " [ 119553]\n",
            " [  53961]\n",
            " [ 842639]\n",
            " [1285020]\n",
            " [2267184]\n",
            " [ 324228]\n",
            " [ 617694]\n",
            " [ 797676]\n",
            " [1432256]\n",
            " [ 549330]\n",
            " [1034132]\n",
            " [ 915724]\n",
            " [1721295]\n",
            " [ 383560]\n",
            " [ 970515]]\n"
          ]
        }
      ]
    },
    {
      "cell_type": "markdown",
      "source": [
        "5. Units_Sold ustunidagi eng kichik va eng katta qiymatlarni toping."
      ],
      "metadata": {
        "id": "6shsgBFBtooH"
      }
    },
    {
      "cell_type": "code",
      "source": [
        "print(f\"Eng katta qiymat: {data[:, 2:3].max()}\")"
      ],
      "metadata": {
        "colab": {
          "base_uri": "https://localhost:8080/"
        },
        "id": "wzRc0bcxtkO8",
        "outputId": "11bbe0ea-9480-4fa3-b63e-3d2ce0744514"
      },
      "execution_count": null,
      "outputs": [
        {
          "output_type": "stream",
          "name": "stdout",
          "text": [
            "Eng katta qiymat: 50\n"
          ]
        }
      ]
    },
    {
      "cell_type": "code",
      "source": [
        "print(f\"Eng kichik qiymat: {data[:, 2:3].min()}\")"
      ],
      "metadata": {
        "colab": {
          "base_uri": "https://localhost:8080/"
        },
        "id": "Wx9a6JAmuG5s",
        "outputId": "cd5921e1-80ad-414c-dfd1-e011f9b605b9"
      },
      "execution_count": null,
      "outputs": [
        {
          "output_type": "stream",
          "name": "stdout",
          "text": [
            "Eng kichik qiymat: 1\n"
          ]
        }
      ]
    },
    {
      "cell_type": "markdown",
      "source": [
        "6. Barcha sotuvlardan umumiy tushumni (Revenue yig‘indisi) hisoblang."
      ],
      "metadata": {
        "id": "y8ShCa0Nuv7j"
      }
    },
    {
      "cell_type": "code",
      "source": [
        "print(f\"Umumiy tushum: {data[:, 4].sum()}\")"
      ],
      "metadata": {
        "colab": {
          "base_uri": "https://localhost:8080/"
        },
        "id": "P9_hYyK6uvG8",
        "outputId": "ed4e1028-b0a6-4257-d39b-75f2f3a159fd"
      },
      "execution_count": null,
      "outputs": [
        {
          "output_type": "stream",
          "name": "stdout",
          "text": [
            "Umumiy tushum: 74984801\n"
          ]
        }
      ]
    },
    {
      "cell_type": "markdown",
      "source": [
        "7. O‘rtacha Units_Sold qiymatini toping."
      ],
      "metadata": {
        "id": "6JZTuF7vvhY4"
      }
    },
    {
      "cell_type": "code",
      "source": [
        "print(data[:, 2].mean().round())  # mahsulot dona bo'lgani uchun round() ni ishlatdm"
      ],
      "metadata": {
        "colab": {
          "base_uri": "https://localhost:8080/"
        },
        "id": "EvOC9ZRZvKty",
        "outputId": "8f5a67e0-8012-4551-bff7-66bbd92ff990"
      },
      "execution_count": null,
      "outputs": [
        {
          "output_type": "stream",
          "name": "stdout",
          "text": [
            "26.0\n"
          ]
        }
      ]
    },
    {
      "cell_type": "markdown",
      "source": [
        "8. O‘rtacha Unit_Priceni hisoblang."
      ],
      "metadata": {
        "id": "X9mCv32y1BKQ"
      }
    },
    {
      "cell_type": "code",
      "source": [
        "print(data[:, 3].mean())"
      ],
      "metadata": {
        "colab": {
          "base_uri": "https://localhost:8080/"
        },
        "id": "jswRwGFuxDUx",
        "outputId": "e03ffcd7-e1e0-4d90-e7cc-f7d8c9d58452"
      },
      "execution_count": null,
      "outputs": [
        {
          "output_type": "stream",
          "name": "stdout",
          "text": [
            "30065.54\n"
          ]
        }
      ]
    },
    {
      "cell_type": "markdown",
      "source": [
        "9. Sotuvlarning median Revenue qiymatini toping.\n"
      ],
      "metadata": {
        "id": "s6ENqGxi1cNr"
      }
    },
    {
      "cell_type": "code",
      "source": [
        "print(np.median(data[:,4]))"
      ],
      "metadata": {
        "colab": {
          "base_uri": "https://localhost:8080/"
        },
        "id": "s4RC3TV11Umb",
        "outputId": "ff4f5013-2f88-4f56-f552-770cdbfd379f"
      },
      "execution_count": null,
      "outputs": [
        {
          "output_type": "stream",
          "name": "stdout",
          "text": [
            "660856.0\n"
          ]
        }
      ]
    },
    {
      "cell_type": "markdown",
      "source": [
        "10. Units_Sold ustunining standart og‘ishini (std) hisoblang.\n",
        "\n",
        "\n"
      ],
      "metadata": {
        "id": "xOHDp2m82RIP"
      }
    },
    {
      "cell_type": "code",
      "source": [
        "print(np.std(data[:,2]))"
      ],
      "metadata": {
        "colab": {
          "base_uri": "https://localhost:8080/"
        },
        "id": "XSo-HlTT2Aj0",
        "outputId": "05bf7e2f-5663-47e4-b8db-6ac839548cde"
      },
      "execution_count": null,
      "outputs": [
        {
          "output_type": "stream",
          "name": "stdout",
          "text": [
            "14.214837318801788\n"
          ]
        }
      ]
    },
    {
      "cell_type": "markdown",
      "source": [
        "11. Har bir mahsulot (Product_ID) bo‘yicha umumiy tushumni hisoblang.\n"
      ],
      "metadata": {
        "id": "FEQxKFuK2raG"
      }
    },
    {
      "cell_type": "code",
      "source": [
        "id_numb=np.unique(data[:, 0])\n",
        "for id in id_numb:\n",
        "  summa=data[data[:, 0]==id, 4].sum()\n",
        "  print(f\"Mahsulot id : {id} -- Soni {summa}\")\n",
        "\n"
      ],
      "metadata": {
        "colab": {
          "base_uri": "https://localhost:8080/"
        },
        "id": "kp4ibSjV2gIh",
        "outputId": "d9b36875-84e3-4af4-9756-66c9e2d23f3a"
      },
      "execution_count": null,
      "outputs": [
        {
          "output_type": "stream",
          "name": "stdout",
          "text": [
            "Mahsulot id : 1 -- Soni 4258550\n",
            "Mahsulot id : 2 -- Soni 5626405\n",
            "Mahsulot id : 3 -- Soni 8274238\n",
            "Mahsulot id : 4 -- Soni 7911690\n",
            "Mahsulot id : 5 -- Soni 5952030\n",
            "Mahsulot id : 6 -- Soni 2770584\n",
            "Mahsulot id : 7 -- Soni 8226282\n",
            "Mahsulot id : 8 -- Soni 10609719\n",
            "Mahsulot id : 9 -- Soni 11767614\n",
            "Mahsulot id : 10 -- Soni 9587689\n"
          ]
        }
      ]
    },
    {
      "cell_type": "markdown",
      "source": [
        "12. Har bir do‘kon (Store_ID) bo‘yicha sotilgan jami dona sonini hisoblang.\n"
      ],
      "metadata": {
        "id": "ZtfBU3jQ8vmZ"
      }
    },
    {
      "cell_type": "code",
      "source": [
        "store_id=np.unique(data[:, 1])\n",
        "for id in store_id:\n",
        "  numbers=data[data[:, 0]==id, 3].sum()\n",
        "  print(f\"Store id : {id} -- Soni {numbers}\")\n"
      ],
      "metadata": {
        "colab": {
          "base_uri": "https://localhost:8080/"
        },
        "id": "QsOSReV44Q0T",
        "outputId": "5abc542c-b7ad-48e7-cfdc-4b4fa64fd62f"
      },
      "execution_count": null,
      "outputs": [
        {
          "output_type": "stream",
          "name": "stdout",
          "text": [
            "Store id : 1 -- Soni 256788\n",
            "Store id : 2 -- Soni 278476\n",
            "Store id : 3 -- Soni 282167\n",
            "Store id : 4 -- Soni 328897\n",
            "Store id : 5 -- Soni 241314\n"
          ]
        }
      ]
    },
    {
      "cell_type": "markdown",
      "source": [
        "13. Eng ko‘p tushum qilgan mahsulot IDni toping."
      ],
      "metadata": {
        "id": "KQovGvbk9yMT"
      }
    },
    {
      "cell_type": "code",
      "source": [
        "max_sum=data[:, 3].max()\n",
        "id=data[data[:, 3]==max_sum, 0]\n",
        "print(f\"Eng kop tushum qilgan mahsulot id: {id}\")"
      ],
      "metadata": {
        "colab": {
          "base_uri": "https://localhost:8080/"
        },
        "id": "Ak5JvSvT9Vw8",
        "outputId": "ca2a8a4f-a8c3-4ef2-9bb1-ee84b9fb895a"
      },
      "execution_count": null,
      "outputs": [
        {
          "output_type": "stream",
          "name": "stdout",
          "text": [
            "Eng kop tushum qilgan mahsulot id: [9]\n"
          ]
        }
      ]
    },
    {
      "cell_type": "markdown",
      "source": [
        "14. Eng ko‘p tushum qilgan do‘kon IDni aniqlang."
      ],
      "metadata": {
        "id": "-zbycaLu-6MF"
      }
    },
    {
      "cell_type": "code",
      "source": [
        "store_id=data[data[:, 3]==max_sum, 1]\n",
        "print(f\"Eng kop tushum qilgan mahsulot id: {store_id}\")"
      ],
      "metadata": {
        "colab": {
          "base_uri": "https://localhost:8080/"
        },
        "id": "OObUIVeb-KP7",
        "outputId": "6fe55fff-c670-40de-baf1-7c5f929fb7e9"
      },
      "execution_count": null,
      "outputs": [
        {
          "output_type": "stream",
          "name": "stdout",
          "text": [
            "Eng kop tushum qilgan mahsulot id: [4]\n"
          ]
        }
      ]
    },
    {
      "cell_type": "markdown",
      "source": [
        "15. 1-raqamli mahsulot bo‘yicha jami tushumni hisoblang."
      ],
      "metadata": {
        "id": "ZixBSJud_ji-"
      }
    },
    {
      "cell_type": "code",
      "source": [
        "sum=data[data[:, 0]==1, 4].sum()\n",
        "print(f\"1 id- jami summa--{sum}\")"
      ],
      "metadata": {
        "colab": {
          "base_uri": "https://localhost:8080/"
        },
        "id": "QYkLFffp_v3B",
        "outputId": "69f24784-c43c-475e-f240-43cf9f9dbc88"
      },
      "execution_count": null,
      "outputs": [
        {
          "output_type": "stream",
          "name": "stdout",
          "text": [
            "1 id- jami summa--4258550\n"
          ]
        }
      ]
    },
    {
      "cell_type": "markdown",
      "source": [
        "16.  20 donadan ko‘p sotilgan yozuvlarni ajratib oling."
      ],
      "metadata": {
        "id": "UYidz5GrAbl1"
      }
    },
    {
      "cell_type": "code",
      "source": [
        "data1=data[data[:, 2]>20, :]\n",
        "print(data1.shape)   # shartni bajargan mahsulotlar soni"
      ],
      "metadata": {
        "colab": {
          "base_uri": "https://localhost:8080/"
        },
        "id": "Z4EZJATfARvu",
        "outputId": "8f5452a0-ff11-4424-8de9-d122d88ec3b0"
      },
      "execution_count": null,
      "outputs": [
        {
          "output_type": "stream",
          "name": "stdout",
          "text": [
            "(59, 5)\n"
          ]
        }
      ]
    },
    {
      "cell_type": "markdown",
      "source": [
        "17.  Narxi 40 000 so‘mdan yuqori bo‘lgan mahsulotlarni ajrating.\n",
        "\n",
        "\n"
      ],
      "metadata": {
        "id": "iYepU2ONGLGp"
      }
    },
    {
      "cell_type": "code",
      "source": [
        "data2=data[data[:, 3]>40000, :]\n",
        "print(data2.shape)"
      ],
      "metadata": {
        "colab": {
          "base_uri": "https://localhost:8080/"
        },
        "id": "Zw2_Z13GFxqj",
        "outputId": "aa10b92e-c978-4916-9ae7-c1031b3e2d70"
      },
      "execution_count": null,
      "outputs": [
        {
          "output_type": "stream",
          "name": "stdout",
          "text": [
            "(27, 5)\n"
          ]
        }
      ]
    },
    {
      "cell_type": "markdown",
      "source": [
        "18. Faqatgina Store_ID = 3 bo‘lgan yozuvlarni chiqaring."
      ],
      "metadata": {
        "id": "4BepSE2sHCAX"
      }
    },
    {
      "cell_type": "code",
      "source": [
        "data3=data[data[:, 1]==3, :]\n",
        "print(data3)"
      ],
      "metadata": {
        "colab": {
          "base_uri": "https://localhost:8080/"
        },
        "id": "vX4qWNNSGkas",
        "outputId": "784b4591-606d-4209-de83-07fa6c1537a4"
      },
      "execution_count": null,
      "outputs": [
        {
          "output_type": "stream",
          "name": "stdout",
          "text": [
            "[[      7       3       6   39124  234744]\n",
            " [      3       3      29   19007  551203]\n",
            " [      7       3       3   47410  142230]\n",
            " [      5       3      36   28589 1029204]\n",
            " [      8       3      26   46212 1201512]\n",
            " [      5       3      32   13420  429440]\n",
            " [      1       3      18   45743  823374]\n",
            " [      7       3      23   10569  243087]\n",
            " [      5       3      35   17455  610925]\n",
            " [      3       3       7   14014   98098]\n",
            " [      5       3       9   29190  262710]\n",
            " [      4       3      20   34376  687520]\n",
            " [      6       3      49   14495  710255]\n",
            " [      6       3       8   20893  167144]\n",
            " [      2       3      20   42097  841940]\n",
            " [     10       3      25   43621 1090525]\n",
            " [      8       3      16   37236  595776]\n",
            " [      9       3      33   31699 1046067]\n",
            " [      1       3      17   49567  842639]\n",
            " [     10       3      46   31136 1432256]\n",
            " [      7       3      30   18311  549330]\n",
            " [      8       3      27   35945  970515]]\n"
          ]
        }
      ]
    },
    {
      "cell_type": "markdown",
      "source": [
        "19.  Tushumi 1 000 000 so‘mdan yuqori bo‘lgan yozuvlarni chiqaring.\n"
      ],
      "metadata": {
        "id": "WMC7jIwhHgZI"
      }
    },
    {
      "cell_type": "code",
      "source": [
        "data4=data[data[:, 4]>1000000]\n",
        "print(data4.shape)"
      ],
      "metadata": {
        "colab": {
          "base_uri": "https://localhost:8080/"
        },
        "id": "AM85AdBeHYmo",
        "outputId": "7b28f232-d996-49f3-975c-5a47b86e97e6"
      },
      "execution_count": null,
      "outputs": [
        {
          "output_type": "stream",
          "name": "stdout",
          "text": [
            "(29, 5)\n"
          ]
        }
      ]
    },
    {
      "cell_type": "markdown",
      "source": [
        "20.  Units_Sold 10 dan kichik bo‘lgan sotuvlarni chiqaring."
      ],
      "metadata": {
        "id": "SxgmwiS2IB_X"
      }
    },
    {
      "cell_type": "code",
      "source": [
        "data5=data[data[:, 2]<10]\n",
        "print(data5)"
      ],
      "metadata": {
        "colab": {
          "base_uri": "https://localhost:8080/"
        },
        "id": "1JshrsIlHzLh",
        "outputId": "43680cb1-ca1d-47a4-fe5b-e539b6980b3e"
      },
      "execution_count": null,
      "outputs": [
        {
          "output_type": "stream",
          "name": "stdout",
          "text": [
            "[[     5      5      9  15600 140400]\n",
            " [     7      3      6  39124 234744]\n",
            " [     7      3      3  47410 142230]\n",
            " [     8      1      3  42635 127905]\n",
            " [     2      1      7  41216 288512]\n",
            " [     6      4      1  29778  29778]\n",
            " [     3      3      7  14014  98098]\n",
            " [     2      1      2  20729  41458]\n",
            " [     4      5      1  44177  44177]\n",
            " [    10      4      5  22533 112665]\n",
            " [     5      3      9  29190 262710]\n",
            " [     1      1      3  32009  96027]\n",
            " [     6      3      8  20893 167144]\n",
            " [     2      4      2  25338  50676]\n",
            " [     1      1      4  31606 126424]\n",
            " [     8      5      8  49734 397872]\n",
            " [     8      1      7  17079 119553]\n",
            " [     3      1      3  17987  53961]\n",
            " [     9      2      8  47945 383560]]\n"
          ]
        }
      ]
    },
    {
      "cell_type": "markdown",
      "source": [
        "21.  Har bir mahsulot uchun o‘rtacha tushumni hisoblang."
      ],
      "metadata": {
        "id": "pe6KI3OeITIw"
      }
    },
    {
      "cell_type": "code",
      "source": [
        "id_numb=np.unique(data[:, 0])\n",
        "for id in id_numb:\n",
        "  summa=data[data[:, 0]==id, 4].mean()\n",
        "  print(f\"Mahsulot id : {id} -- O'rtacha qiymat {summa}\")\n",
        "\n"
      ],
      "metadata": {
        "colab": {
          "base_uri": "https://localhost:8080/"
        },
        "id": "qXU-yj1AIO8B",
        "outputId": "1f005092-489b-4cfb-f9a8-0e7981c73146"
      },
      "execution_count": null,
      "outputs": [
        {
          "output_type": "stream",
          "name": "stdout",
          "text": [
            "Mahsulot id : 1 -- O'rtacha qiymat 608364.2857142857\n",
            "Mahsulot id : 2 -- O'rtacha qiymat 562640.5\n",
            "Mahsulot id : 3 -- O'rtacha qiymat 919359.7777777778\n",
            "Mahsulot id : 4 -- O'rtacha qiymat 879076.6666666666\n",
            "Mahsulot id : 5 -- O'rtacha qiymat 595203.0\n",
            "Mahsulot id : 6 -- O'rtacha qiymat 461764.0\n",
            "Mahsulot id : 7 -- O'rtacha qiymat 747843.8181818182\n",
            "Mahsulot id : 8 -- O'rtacha qiymat 707314.6\n",
            "Mahsulot id : 9 -- O'rtacha qiymat 980634.5\n",
            "Mahsulot id : 10 -- O'rtacha qiymat 871608.0909090909\n"
          ]
        }
      ]
    },
    {
      "cell_type": "markdown",
      "source": [
        "22. Har bir do‘kon uchun o‘rtacha tushumni hisoblang.\n",
        "\n",
        "\n"
      ],
      "metadata": {
        "id": "_MXLljoTLvJm"
      }
    },
    {
      "cell_type": "code",
      "source": [
        "store_id=np.unique(data[:, 1])\n",
        "for id in store_id:\n",
        "  summa=data[data[:, 0]==id, 4].mean()\n",
        "  print(f\"Store id : {id} -- O'rtacha qiymat {summa}\")"
      ],
      "metadata": {
        "colab": {
          "base_uri": "https://localhost:8080/"
        },
        "id": "_5LZzvYVJARB",
        "outputId": "bf186e44-a775-4216-e2b8-3fb1fa063245"
      },
      "execution_count": null,
      "outputs": [
        {
          "output_type": "stream",
          "name": "stdout",
          "text": [
            "Store id : 1 -- O'rtacha qiymat 608364.2857142857\n",
            "Store id : 2 -- O'rtacha qiymat 562640.5\n",
            "Store id : 3 -- O'rtacha qiymat 919359.7777777778\n",
            "Store id : 4 -- O'rtacha qiymat 879076.6666666666\n",
            "Store id : 5 -- O'rtacha qiymat 595203.0\n"
          ]
        }
      ]
    },
    {
      "cell_type": "markdown",
      "source": [
        "23. Har bir mahsulotdan nechta dona sotilganini hisoblang."
      ],
      "metadata": {
        "id": "GbpnNPHVMXVu"
      }
    },
    {
      "cell_type": "code",
      "source": [
        "id_numb=np.unique(data[:, 0])\n",
        "for id in id_numb:\n",
        "  numbers=data[data[:, 0]==id, 2].sum()\n",
        "  print(f\"Mahsulot id: {id}-- Jami: {numbers}\")"
      ],
      "metadata": {
        "colab": {
          "base_uri": "https://localhost:8080/"
        },
        "id": "WlNBVQnHMT-C",
        "outputId": "124a04f2-4142-4c47-88b6-b033af583c04"
      },
      "execution_count": null,
      "outputs": [
        {
          "output_type": "stream",
          "name": "stdout",
          "text": [
            "Mahsulot id: 1-- Jami: 112\n",
            "Mahsulot id: 2-- Jami: 207\n",
            "Mahsulot id: 3-- Jami: 226\n",
            "Mahsulot id: 4-- Jami: 219\n",
            "Mahsulot id: 5-- Jami: 261\n",
            "Mahsulot id: 6-- Jami: 151\n",
            "Mahsulot id: 7-- Jami: 282\n",
            "Mahsulot id: 8-- Jami: 414\n",
            "Mahsulot id: 9-- Jami: 361\n",
            "Mahsulot id: 10-- Jami: 339\n"
          ]
        }
      ]
    },
    {
      "cell_type": "markdown",
      "source": [
        "24. Revenue bo‘yicha eng katta 5 ta yozuvni chiqaring."
      ],
      "metadata": {
        "id": "HnGteZOWNVaC"
      }
    },
    {
      "cell_type": "code",
      "source": [
        "data1=data[:, 4]\n",
        "top_5=np.sort(data1)[-5:]\n",
        "print(f\"Eng katta 5 ta qiymatlar: {top_5}\")"
      ],
      "metadata": {
        "colab": {
          "base_uri": "https://localhost:8080/"
        },
        "id": "wBYhP0olM4ej",
        "outputId": "60c8d4e6-54ff-4b36-a0eb-7ce097ea3a74"
      },
      "execution_count": null,
      "outputs": [
        {
          "output_type": "stream",
          "name": "stdout",
          "text": [
            "Eng katta 5 ta qiymatlar: [1955808 1958502 1998914 2197296 2267184]\n"
          ]
        }
      ]
    },
    {
      "cell_type": "markdown",
      "source": [
        "25. Revenue bo‘yicha eng kichik 5 ta yozuvni chiqaring.\n",
        "\n",
        "\n"
      ],
      "metadata": {
        "id": "G3tS39QjPqw1"
      }
    },
    {
      "cell_type": "code",
      "source": [
        "data1=data[:, 4]\n",
        "top_5=np.sort(data1)[:5]\n",
        "print(f\"Eng kichik 5 ta qiymatlar: {top_5}\")"
      ],
      "metadata": {
        "colab": {
          "base_uri": "https://localhost:8080/"
        },
        "id": "cC2ih6UHNybn",
        "outputId": "8464f779-51f3-4833-b903-76396e85ff70"
      },
      "execution_count": null,
      "outputs": [
        {
          "output_type": "stream",
          "name": "stdout",
          "text": [
            "Eng kichik 5 ta qiymatlar: [29778 41458 44177 50676 53961]\n"
          ]
        }
      ]
    },
    {
      "cell_type": "markdown",
      "source": [
        "26. Har bir do‘kon bo‘yicha mahsulotlarning o‘rtacha tushumlarini hisoblab, eng samarali do‘konni aniqlang.\n",
        "\n",
        "\n",
        "\n"
      ],
      "metadata": {
        "id": "jJt-nMNbQZbh"
      }
    },
    {
      "cell_type": "code",
      "source": [
        "store_id=np.unique(data[:, 1])\n",
        "store={}\n",
        "for id in store_id:\n",
        "  summa=data[data[:, 0]==id, 3].mean()\n",
        "  print(f\"Store id : {id} -- O'rtacha qiymat {summa}\")\n",
        "  store[id]= summa\n",
        "best_store=max(store, key=store.get)\n",
        "print(f\"Eng samarali do'kon: {best_store}\")"
      ],
      "metadata": {
        "colab": {
          "base_uri": "https://localhost:8080/"
        },
        "id": "TP7qrL7UP0rF",
        "outputId": "20d06c50-b5e9-4e1f-aa76-a6a98611f317"
      },
      "execution_count": null,
      "outputs": [
        {
          "output_type": "stream",
          "name": "stdout",
          "text": [
            "Store id : 1 -- O'rtacha qiymat 36684.0\n",
            "Store id : 2 -- O'rtacha qiymat 27847.6\n",
            "Store id : 3 -- O'rtacha qiymat 31351.88888888889\n",
            "Store id : 4 -- O'rtacha qiymat 36544.11111111111\n",
            "Store id : 5 -- O'rtacha qiymat 24131.4\n",
            "Eng samarali do'kon: 1\n"
          ]
        }
      ]
    },
    {
      "cell_type": "markdown",
      "source": [
        "27. Har bir mahsulot bo‘yicha umumiy tushumni hisoblang va eng ko‘p sotilgan TOP-3 mahsulotni chiqaring.\n",
        "\n",
        "\n"
      ],
      "metadata": {
        "id": "wY_G_gQjUI-1"
      }
    },
    {
      "cell_type": "code",
      "source": [
        "id_numb=np.unique(data[:, 0])\n",
        "products={}\n",
        "for id in id_numb:\n",
        "  summa=data[data[:, 0]==id, 4].sum()\n",
        "  print(f\"Mahsulot id : {id} -- Jami {summa}\")\n",
        "  products[id]=summa\n",
        "top_3=sorted(products.items(), key=lambda x:x[1], reverse=True)[:3]\n",
        "for key, value in top_3:\n",
        "  print(f\"Dokon {key}: {value}\")"
      ],
      "metadata": {
        "colab": {
          "base_uri": "https://localhost:8080/"
        },
        "id": "sZUxSrPaRXk7",
        "outputId": "f3cd30e2-994f-4530-8332-935dcc838657"
      },
      "execution_count": null,
      "outputs": [
        {
          "output_type": "stream",
          "name": "stdout",
          "text": [
            "Mahsulot id : 1 -- Jami 4258550\n",
            "Mahsulot id : 2 -- Jami 5626405\n",
            "Mahsulot id : 3 -- Jami 8274238\n",
            "Mahsulot id : 4 -- Jami 7911690\n",
            "Mahsulot id : 5 -- Jami 5952030\n",
            "Mahsulot id : 6 -- Jami 2770584\n",
            "Mahsulot id : 7 -- Jami 8226282\n",
            "Mahsulot id : 8 -- Jami 10609719\n",
            "Mahsulot id : 9 -- Jami 11767614\n",
            "Mahsulot id : 10 -- Jami 9587689\n",
            "Dokon 9: 11767614\n",
            "Dokon 8: 10609719\n",
            "Dokon 10: 9587689\n"
          ]
        }
      ]
    },
    {
      "cell_type": "markdown",
      "source": [
        "28. Har bir do‘kon uchun o‘rtacha narx (Unit_Price)ni toping.\n",
        "\n",
        "\n"
      ],
      "metadata": {
        "id": "xzuJKf_aM-wG"
      }
    },
    {
      "cell_type": "code",
      "source": [
        "store_id=np.unique(data[:, 1])\n",
        "for id in store_id:\n",
        "  sum=data[data[:, 1]==id, 3].mean()\n",
        "  print(f\"Store Id {id}-- o'rtacha narx:-- {sum.round(2)}\")"
      ],
      "metadata": {
        "id": "gqqLUTC-SjsY",
        "colab": {
          "base_uri": "https://localhost:8080/"
        },
        "outputId": "b5078212-bc2a-4101-9c6b-1db6884a0651"
      },
      "execution_count": null,
      "outputs": [
        {
          "output_type": "stream",
          "name": "stdout",
          "text": [
            "Store Id 1-- o'rtacha narx:-- 26951.21\n",
            "Store Id 2-- o'rtacha narx:-- 29083.33\n",
            "Store Id 3-- o'rtacha narx:-- 30459.5\n",
            "Store Id 4-- o'rtacha narx:-- 30134.55\n",
            "Store Id 5-- o'rtacha narx:-- 34729.76\n"
          ]
        }
      ]
    },
    {
      "cell_type": "markdown",
      "source": [
        "29. Revenue ustunini tartiblang (katta → kichik).\n",
        "\n",
        "\n"
      ],
      "metadata": {
        "id": "KXe18DxPP9Wo"
      }
    },
    {
      "cell_type": "code",
      "source": [
        "sorted_data= sorted(data[:, 4:], reverse=True)\n",
        "sorted_data"
      ],
      "metadata": {
        "colab": {
          "base_uri": "https://localhost:8080/"
        },
        "id": "X0E1tkBZN2MP",
        "outputId": "b8efebc1-03a1-469f-edd5-f1735db6795c"
      },
      "execution_count": null,
      "outputs": [
        {
          "output_type": "execute_result",
          "data": {
            "text/plain": [
              "[array([2267184], dtype=int32),\n",
              " array([2197296], dtype=int32),\n",
              " array([1998914], dtype=int32),\n",
              " array([1958502], dtype=int32),\n",
              " array([1955808], dtype=int32),\n",
              " array([1849038], dtype=int32),\n",
              " array([1721295], dtype=int32),\n",
              " array([1654650], dtype=int32),\n",
              " array([1643070], dtype=int32),\n",
              " array([1494510], dtype=int32),\n",
              " array([1432256], dtype=int32),\n",
              " array([1385720], dtype=int32),\n",
              " array([1340920], dtype=int32),\n",
              " array([1339890], dtype=int32),\n",
              " array([1300362], dtype=int32),\n",
              " array([1285020], dtype=int32),\n",
              " array([1279692], dtype=int32),\n",
              " array([1248352], dtype=int32),\n",
              " array([1230668], dtype=int32),\n",
              " array([1201512], dtype=int32),\n",
              " array([1197381], dtype=int32),\n",
              " array([1090525], dtype=int32),\n",
              " array([1068625], dtype=int32),\n",
              " array([1062288], dtype=int32),\n",
              " array([1046067], dtype=int32),\n",
              " array([1034132], dtype=int32),\n",
              " array([1029204], dtype=int32),\n",
              " array([1008559], dtype=int32),\n",
              " array([1006368], dtype=int32),\n",
              " array([970515], dtype=int32),\n",
              " array([936120], dtype=int32),\n",
              " array([915724], dtype=int32),\n",
              " array([898368], dtype=int32),\n",
              " array([883953], dtype=int32),\n",
              " array([842639], dtype=int32),\n",
              " array([841940], dtype=int32),\n",
              " array([832732], dtype=int32),\n",
              " array([823374], dtype=int32),\n",
              " array([816925], dtype=int32),\n",
              " array([809235], dtype=int32),\n",
              " array([799188], dtype=int32),\n",
              " array([797676], dtype=int32),\n",
              " array([738432], dtype=int32),\n",
              " array([729820], dtype=int32),\n",
              " array([715482], dtype=int32),\n",
              " array([710255], dtype=int32),\n",
              " array([687520], dtype=int32),\n",
              " array([679742], dtype=int32),\n",
              " array([678816], dtype=int32),\n",
              " array([677632], dtype=int32),\n",
              " array([644080], dtype=int32),\n",
              " array([617694], dtype=int32),\n",
              " array([610925], dtype=int32),\n",
              " array([602288], dtype=int32),\n",
              " array([595776], dtype=int32),\n",
              " array([574220], dtype=int32),\n",
              " array([551203], dtype=int32),\n",
              " array([549330], dtype=int32),\n",
              " array([533680], dtype=int32),\n",
              " array([528936], dtype=int32),\n",
              " array([521607], dtype=int32),\n",
              " array([517632], dtype=int32),\n",
              " array([505632], dtype=int32),\n",
              " array([504040], dtype=int32),\n",
              " array([453012], dtype=int32),\n",
              " array([437185], dtype=int32),\n",
              " array([430683], dtype=int32),\n",
              " array([429440], dtype=int32),\n",
              " array([422341], dtype=int32),\n",
              " array([408144], dtype=int32),\n",
              " array([407600], dtype=int32),\n",
              " array([403051], dtype=int32),\n",
              " array([397872], dtype=int32),\n",
              " array([392293], dtype=int32),\n",
              " array([383560], dtype=int32),\n",
              " array([364160], dtype=int32),\n",
              " array([354720], dtype=int32),\n",
              " array([353067], dtype=int32),\n",
              " array([337488], dtype=int32),\n",
              " array([324228], dtype=int32),\n",
              " array([288512], dtype=int32),\n",
              " array([262710], dtype=int32),\n",
              " array([243087], dtype=int32),\n",
              " array([234744], dtype=int32),\n",
              " array([183205], dtype=int32),\n",
              " array([167144], dtype=int32),\n",
              " array([152264], dtype=int32),\n",
              " array([142230], dtype=int32),\n",
              " array([140400], dtype=int32),\n",
              " array([127905], dtype=int32),\n",
              " array([126424], dtype=int32),\n",
              " array([119553], dtype=int32),\n",
              " array([112665], dtype=int32),\n",
              " array([98098], dtype=int32),\n",
              " array([96027], dtype=int32),\n",
              " array([53961], dtype=int32),\n",
              " array([50676], dtype=int32),\n",
              " array([44177], dtype=int32),\n",
              " array([41458], dtype=int32),\n",
              " array([29778], dtype=int32)]"
            ]
          },
          "metadata": {},
          "execution_count": 46
        }
      ]
    },
    {
      "cell_type": "markdown",
      "source": [
        "30. Eng ko‘p tushum qilgan mahsulot va eng ko‘p dona sotilgan mahsulotni taqqoslang (bir xilmi yoki yo‘q?).\n"
      ],
      "metadata": {
        "id": "19PlZl8LaJBq"
      }
    },
    {
      "cell_type": "code",
      "source": [
        "product_ids=np.unique(data[:, 0])\n",
        "products={}\n",
        "for id in product_ids:\n",
        "  sum=data[data[:, 0]==id, 4].sum()\n",
        "  products[id]=sum\n",
        "best_product=max(products, key=products.get)\n",
        "print(f\"Eng kop tushum qillgan mahsulot: {best_product}\")"
      ],
      "metadata": {
        "id": "JgPAu438WFeK",
        "colab": {
          "base_uri": "https://localhost:8080/"
        },
        "outputId": "2158142e-9b2c-4c4d-ff93-9717d2809d1c"
      },
      "execution_count": null,
      "outputs": [
        {
          "output_type": "stream",
          "name": "stdout",
          "text": [
            "Eng kop tushum qillgan mahsulot: 9\n"
          ]
        }
      ]
    },
    {
      "cell_type": "code",
      "source": [
        "product_ids=np.unique(data[:, 0])\n",
        "products={}\n",
        "for id in product_ids:\n",
        "  sum=data[data[:, 0]==id, 3].sum()\n",
        "  products[id]=sum\n",
        "best_product=max(products, key=products.get)\n",
        "print(f\"Eng kop dona sotilgan mahsulot : {best_product}\")\n",
        "print(f\"Eng kop tushum qillgan mahsulot: {best_product}\")\n",
        "print(\"Demak bir xil emas \")"
      ],
      "metadata": {
        "colab": {
          "base_uri": "https://localhost:8080/"
        },
        "id": "tzkLwTJl33Lj",
        "outputId": "56ec07fa-0a06-42c1-994a-90e097131312"
      },
      "execution_count": null,
      "outputs": [
        {
          "output_type": "stream",
          "name": "stdout",
          "text": [
            "Eng kop dona sotilgan mahsulot : 8\n",
            "Eng kop tushum qillgan mahsulot: 8\n",
            "Demak bir xil emas \n"
          ]
        }
      ]
    },
    {
      "cell_type": "code",
      "source": [],
      "metadata": {
        "id": "HHZhZV506ow_"
      },
      "execution_count": null,
      "outputs": []
    }
  ]
}